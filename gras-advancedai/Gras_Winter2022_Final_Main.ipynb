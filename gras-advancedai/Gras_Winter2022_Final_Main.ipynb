{
  "nbformat": 4,
  "nbformat_minor": 0,
  "metadata": {
    "colab": {
      "name": "Gras-Winter2022-Final-Main.ipynb",
      "provenance": [],
      "mount_file_id": "1g9a28qp-PsqbVTvBuoZep-zTzR2Pcgoq",
      "authorship_tag": "ABX9TyP4dos6GWoptfTaTDzaQqJ+",
      "include_colab_link": true
    },
    "kernelspec": {
      "name": "python3",
      "display_name": "Python 3"
    },
    "language_info": {
      "name": "python"
    }
  },
  "cells": [
    {
      "cell_type": "markdown",
      "metadata": {
        "id": "view-in-github",
        "colab_type": "text"
      },
      "source": [
        "<a href=\"https://colab.research.google.com/github/feknall/machinelearning-playground/blob/main/Gras_Winter2022_Final_Main.ipynb\" target=\"_parent\"><img src=\"https://colab.research.google.com/assets/colab-badge.svg\" alt=\"Open In Colab\"/></a>"
      ]
    },
    {
      "cell_type": "markdown",
      "source": [
        "#Download and Setup"
      ],
      "metadata": {
        "id": "H9FzGFN-d80B"
      }
    },
    {
      "cell_type": "code",
      "source": [
        "!pip install kaggle"
      ],
      "metadata": {
        "id": "Bhjx8x24ZH0D"
      },
      "execution_count": null,
      "outputs": []
    },
    {
      "cell_type": "code",
      "source": [
        "!mkdir /root/.kaggle\n",
        "!touch /root/.kaggle/kaggle.json"
      ],
      "metadata": {
        "id": "r9El6xXhZlTw"
      },
      "execution_count": null,
      "outputs": []
    },
    {
      "cell_type": "code",
      "source": [
        "api_token = {\"username\":\"hfkh77\",\"key\":\"1798ff5c420650f0570e35bf05ef0a3b\"}\n",
        "\n",
        "import json\n",
        "import zipfile\n",
        "import os\n",
        "with open('/root/.kaggle/kaggle.json', 'w') as file:\n",
        "    json.dump(api_token, file)"
      ],
      "metadata": {
        "id": "d-CdwRwqZSiQ"
      },
      "execution_count": null,
      "outputs": []
    },
    {
      "cell_type": "code",
      "source": [
        "!chmod 600 /root/.kaggle/kaggle.json"
      ],
      "metadata": {
        "id": "i1IxvNr5Zuir"
      },
      "execution_count": null,
      "outputs": []
    },
    {
      "cell_type": "code",
      "source": [
        "!cat /root/.kaggle/kaggle.json"
      ],
      "metadata": {
        "id": "aTi8tifMbI3w"
      },
      "execution_count": null,
      "outputs": []
    },
    {
      "cell_type": "code",
      "source": [
        "!kaggle competitions list"
      ],
      "metadata": {
        "id": "f2DcP_PubSFu"
      },
      "execution_count": null,
      "outputs": []
    },
    {
      "cell_type": "code",
      "execution_count": null,
      "metadata": {
        "id": "J2cf_2RGYdH3"
      },
      "outputs": [],
      "source": [
        "!kaggle competitions download -c severstal-steel-defect-detection"
      ]
    },
    {
      "cell_type": "code",
      "source": [
        "!unzip /content/drive/MyDrive/ai-gras-2/severstal-steel-defect-detection.zip -d /content/drive/MyDrive/ai-gras-2/dataset"
      ],
      "metadata": {
        "id": "Q7bvD3rkcA3t"
      },
      "execution_count": null,
      "outputs": []
    },
    {
      "cell_type": "code",
      "source": [
        "!ls -l /content/drive/MyDrive/ai-gras-2/dataset/train_images | wc -l"
      ],
      "metadata": {
        "id": "fiXVeAo_dtGs"
      },
      "execution_count": null,
      "outputs": []
    },
    {
      "cell_type": "code",
      "source": [
        "!ls -l /content/drive/MyDrive/ai-gras-2/dataset/test_images | wc -l"
      ],
      "metadata": {
        "id": "qKof6T5Bd2iu"
      },
      "execution_count": null,
      "outputs": []
    },
    {
      "cell_type": "code",
      "source": [
        "!pip install --upgrade pandas_profiling"
      ],
      "metadata": {
        "id": "EYyWsr92qjsk"
      },
      "execution_count": null,
      "outputs": []
    },
    {
      "cell_type": "code",
      "source": [
        "!pip install --upgrade tensorflow"
      ],
      "metadata": {
        "id": "UObMD3fNqwF3"
      },
      "execution_count": null,
      "outputs": []
    },
    {
      "cell_type": "code",
      "source": [
        "%matplotlib inline"
      ],
      "metadata": {
        "id": "nkanbmpWtgE-"
      },
      "execution_count": null,
      "outputs": []
    },
    {
      "cell_type": "markdown",
      "source": [
        "#Insight"
      ],
      "metadata": {
        "id": "J-8ySU0WeBTU"
      }
    },
    {
      "cell_type": "code",
      "source": [
        "dataset_path = '/content/drive/MyDrive/ai-gras-2/dataset'"
      ],
      "metadata": {
        "id": "I8BAJJvNpcO2"
      },
      "execution_count": null,
      "outputs": []
    },
    {
      "cell_type": "code",
      "source": [
        "import numpy as np\n",
        "import pandas as pd\n",
        "import matplotlib.pyplot as plt\n",
        "import seaborn as sns\n",
        "import skimage.io\n",
        "import os \n",
        "import tqdm\n",
        "import glob\n",
        "import tensorflow \n",
        "import warnings\n",
        "from tqdm import tqdm\n",
        "from sklearn.utils import shuffle\n",
        "from sklearn import metrics\n",
        "from sklearn.metrics import confusion_matrix, classification_report\n",
        "from sklearn.model_selection import train_test_split\n",
        "import keras\n",
        "from skimage.io import imread, imshow\n",
        "from skimage.transform import resize\n",
        "from skimage.color import grey2rgb\n",
        "import cv2\n",
        "import tensorflow as tf\n",
        "from tensorflow.keras.preprocessing.image import ImageDataGenerator\n",
        "from tensorflow.keras.preprocessing import image_dataset_from_directory\n",
        "from tensorflow.keras.models import Sequential\n",
        "from tensorflow.keras.layers import InputLayer, BatchNormalization, Dropout, Flatten, Dense, Activation, MaxPool2D, Conv2D\n",
        "from tensorflow.keras.callbacks import EarlyStopping, ModelCheckpoint\n",
        "from tensorflow.keras.applications.resnet50 import ResNet50\n",
        "from tensorflow.keras.utils import to_categorical\n",
        "from keras import optimizers\n",
        "from tensorflow.keras.optimizers import Adam\n",
        "from keras.applications.nasnet import NASNetLarge, NASNetMobile\n",
        "from keras.callbacks import Callback,ModelCheckpoint,ReduceLROnPlateau\n",
        "from sklearn.preprocessing import OneHotEncoder,LabelEncoder\n",
        "from tensorflow.keras.utils import to_categorical\n",
        "from tensorflow.keras.models import Sequential\n",
        "from tensorflow.keras.layers import Dense,Conv2D,Flatten,MaxPooling2D,Dropout\n",
        "from tensorflow.keras.models import Sequential\n",
        "from tensorflow.keras.layers import InputLayer, BatchNormalization, Dropout, Flatten, Dense, Activation, MaxPool2D\n",
        "from tensorflow.keras.callbacks import EarlyStopping, ModelCheckpoint\n",
        "from tensorflow.keras.models import Sequential,load_model\n",
        "from tensorflow.keras.layers import Dense, Dropout\n",
        "from tensorflow.keras.wrappers.scikit_learn import KerasClassifier\n",
        "import tensorflow.keras.backend as K\n",
        "from tensorflow.keras.applications.xception import Xception, preprocess_input\n",
        "#import tensorflow_addons as tfa\n",
        "#from tensorflow.keras.metrics import Metric\n",
        "#from tensorflow_addons.utils.types import AcceptableDTypes, FloatTensorLike\n",
        "from typeguard import typechecked\n",
        "from typing import Optional\n",
        "import pickle "
      ],
      "metadata": {
        "id": "KJs0Ee9FeALK"
      },
      "execution_count": null,
      "outputs": []
    },
    {
      "cell_type": "code",
      "source": [
        "train_size, test_size = 12568, 5506\n",
        "\n",
        "def func(v, p):\n",
        "    a = p * sum(v) / 100\n",
        "    return \"{:.2f}%\\n({:.0f})\".format(p, a)\n",
        "\n",
        "labels = ['train', 'test']\n",
        "sizes = [train_size, test_size]\n",
        "explode = (0.1, 0.1)\n",
        "fig, ax = plt.subplots(figsize=(32, 16))\n",
        "ax.pie(sizes, explode=explode, labels=labels, textprops={'fontsize': 28}, autopct=lambda p: func(sizes, p), shadow=True)\n",
        "# fig.suptitle('Defect Distribution', fontsize=25, fontweight='bold')\n",
        "# fig.set_facecolor(\"tan\")\n",
        "plt.show()\n"
      ],
      "metadata": {
        "id": "KjHKFUntgrYD"
      },
      "execution_count": null,
      "outputs": []
    },
    {
      "cell_type": "code",
      "source": [
        "df = pd.read_csv(f\"{dataset_path}/train.csv\")"
      ],
      "metadata": {
        "id": "misTAVl6pmwv"
      },
      "execution_count": null,
      "outputs": []
    },
    {
      "cell_type": "code",
      "source": [
        "df"
      ],
      "metadata": {
        "id": "W8Wn-yGDpud-"
      },
      "execution_count": null,
      "outputs": []
    },
    {
      "cell_type": "code",
      "source": [
        "df.shape"
      ],
      "metadata": {
        "id": "9NwqXPMdqHfc"
      },
      "execution_count": null,
      "outputs": []
    },
    {
      "cell_type": "code",
      "source": [
        "import pandas_profiling as pp\n",
        "pp.ProfileReport(df)"
      ],
      "metadata": {
        "id": "os2_obwNqLJ0"
      },
      "execution_count": null,
      "outputs": []
    },
    {
      "cell_type": "code",
      "source": [
        "class_id_count = df.groupby(['ClassId']).count()"
      ],
      "metadata": {
        "id": "51eJaTq9r7mH"
      },
      "execution_count": null,
      "outputs": []
    },
    {
      "cell_type": "code",
      "source": [
        "class_id_count"
      ],
      "metadata": {
        "id": "5kYO9rOtr9ge"
      },
      "execution_count": null,
      "outputs": []
    },
    {
      "cell_type": "code",
      "source": [
        "class_id_count.columns"
      ],
      "metadata": {
        "id": "8-WqpRLxuMrh"
      },
      "execution_count": null,
      "outputs": []
    },
    {
      "cell_type": "code",
      "source": [
        "class_id_count.shape"
      ],
      "metadata": {
        "id": "7O7YCS37ugfI"
      },
      "execution_count": null,
      "outputs": []
    },
    {
      "cell_type": "code",
      "source": [
        "import matplotlib.pyplot as plt\n",
        "\n",
        "labels = range(1, class_id_count.shape[0] + 1)\n",
        "sizes = class_id_count['ImageId']\n",
        "\n",
        "fig1, ax1 = plt.subplots(figsize=(10,10))\n",
        "ax1.pie(sizes, labels=labels, autopct='%1.1f%%', \n",
        "        startangle=90, textprops={'fontsize': 16})\n",
        "\n",
        "plt.show()"
      ],
      "metadata": {
        "id": "NjAGMh0Pst6Y"
      },
      "execution_count": null,
      "outputs": []
    },
    {
      "cell_type": "code",
      "source": [
        "import matplotlib.pyplot as plt\n",
        "\n",
        "labels = [str(i) for i in range(1, class_id_count.shape[0] + 1)]\n",
        "sizes = class_id_count['ImageId']\n",
        "\n",
        "fig1, ax1 = plt.subplots(figsize=(10,10))\n",
        "ax1.bar(labels, sizes)\n",
        "ax1.set_xlabel(\"Class\")\n",
        "ax1.set_ylabel(\"Count\")\n",
        "\n",
        "print(\"Size: \" + sizes)\n",
        "plt.show()"
      ],
      "metadata": {
        "id": "JUAopHTHwP-_"
      },
      "execution_count": null,
      "outputs": []
    },
    {
      "cell_type": "code",
      "source": [
        "tqdm(df.values[:10])"
      ],
      "metadata": {
        "id": "NbwUaU8kx0om"
      },
      "execution_count": null,
      "outputs": []
    },
    {
      "cell_type": "code",
      "source": [
        "limit = 1000000\n",
        "\n",
        "image_list = []\n",
        "class_list = []\n",
        "name_list = []\n",
        "for img, ClassId, EncodedPixels in tqdm(df.values[:limit]):\n",
        "    image = cv2.imread(f\"{dataset_path}/train_images/{img}\", cv2.IMREAD_COLOR)\n",
        "    image = cv2.resize(image, (80, 80))\n",
        "    # image = cv2.resize(image, fx=0.5, fy=0.5)\n",
        "    image_list.append(image)\n",
        "    class_list.append(ClassId)\n",
        "    name_list.append(img)"
      ],
      "metadata": {
        "id": "PDUqEuzwyzuA"
      },
      "execution_count": null,
      "outputs": []
    },
    {
      "cell_type": "code",
      "source": [
        "class_list_file_name = f\"{dataset_path}/class_list.pkl\""
      ],
      "metadata": {
        "id": "QOGd4u5AY4DM"
      },
      "execution_count": null,
      "outputs": []
    },
    {
      "cell_type": "code",
      "source": [
        "# open_file = open(class_list_file_name, \"wb\")\n",
        "# pickle.dump(class_list, open_file)\n",
        "# open_file.close()"
      ],
      "metadata": {
        "id": "-RsDso86TfZ6"
      },
      "execution_count": null,
      "outputs": []
    },
    {
      "cell_type": "code",
      "source": [
        "open_file = open(class_list_file_name, \"rb\")\n",
        "class_list = pickle.load(open_file)\n",
        "open_file.close()\n",
        "\n",
        "print(len(class_list))"
      ],
      "metadata": {
        "id": "g7pwi7oqY1Cm"
      },
      "execution_count": null,
      "outputs": []
    },
    {
      "cell_type": "code",
      "source": [
        "name_list_file_name = f\"{dataset_path}/name_list.pkl\""
      ],
      "metadata": {
        "id": "E9jytRp_ZSs1"
      },
      "execution_count": null,
      "outputs": []
    },
    {
      "cell_type": "code",
      "source": [
        "# open_file = open(name_list_file_name, \"wb\")\n",
        "# pickle.dump(name_list, open_file)\n",
        "# open_file.close()"
      ],
      "metadata": {
        "id": "p18zhZo0TmmL"
      },
      "execution_count": null,
      "outputs": []
    },
    {
      "cell_type": "code",
      "source": [
        "open_file = open(name_list_file_name, \"rb\")\n",
        "name_list = pickle.load(open_file)\n",
        "open_file.close()\n",
        "\n",
        "print(len(name_list))"
      ],
      "metadata": {
        "id": "XOlZ90MVZIF7"
      },
      "execution_count": null,
      "outputs": []
    },
    {
      "cell_type": "code",
      "source": [
        "image_list_file_name = f\"{dataset_path}/image_list_80_80.pkl\""
      ],
      "metadata": {
        "id": "V5GXKC_tZa6h"
      },
      "execution_count": null,
      "outputs": []
    },
    {
      "cell_type": "code",
      "source": [
        "# open_file = open(image_list_file_name, \"wb\")\n",
        "# pickle.dump(image_list, open_file)\n",
        "# open_file.close()"
      ],
      "metadata": {
        "id": "xqna0A2LPbOf"
      },
      "execution_count": null,
      "outputs": []
    },
    {
      "cell_type": "code",
      "source": [
        "open_file = open(image_list_file_name, \"rb\")\n",
        "image_list = pickle.load(open_file)\n",
        "open_file.close()\n",
        "\n",
        "print(len(image_list))"
      ],
      "metadata": {
        "id": "d9W8Y7RvP1Jl"
      },
      "execution_count": null,
      "outputs": []
    },
    {
      "cell_type": "code",
      "source": [
        "num_images = (5, 5)\n",
        "total_images = num_images[0] + num_images[1]\n",
        "fig, ax = plt.subplots(num_images[0], num_images[1], figsize=(10*total_images, 10*total_images))\n",
        "for i in range(num_images[0]):\n",
        "  for j in range(num_images[1]):\n",
        "    id = i * num_images[1] + j\n",
        "    print(f\"id: {id}, class: {class_list[id]}, name: {name_list[id]}\")\n",
        "    ax[i, j].imshow(image_list[id])"
      ],
      "metadata": {
        "id": "XJp8nEmLzuma"
      },
      "execution_count": null,
      "outputs": []
    },
    {
      "cell_type": "code",
      "source": [
        "class_list"
      ],
      "metadata": {
        "id": "XlvsEx_tu7e-"
      },
      "execution_count": null,
      "outputs": []
    },
    {
      "cell_type": "code",
      "source": [
        "X = np.array(image_list)\n",
        "X = X / 255"
      ],
      "metadata": {
        "id": "5AJ4QCBxt1dW"
      },
      "execution_count": null,
      "outputs": []
    },
    {
      "cell_type": "code",
      "source": [
        "from sklearn.preprocessing import OneHotEncoder\n",
        "\n",
        "y = np.array(class_list).reshape(1, -1)\n",
        "encoder = LabelEncoder()\n",
        "y = encoder.fit_transform(class_list)\n",
        "y = to_categorical(y)"
      ],
      "metadata": {
        "id": "FQJM4F7ayHSn"
      },
      "execution_count": null,
      "outputs": []
    },
    {
      "cell_type": "code",
      "source": [
        "X_train, X_test, y_train, y_test = train_test_split(X, y, test_size=0.2, stratify=y, shuffle=True)\n",
        "\n",
        "print(\"X_train shape:\", X_train.shape)\n",
        "print(\"X_test shape:\", X_test.shape)\n",
        "print(\"y_train shape:\", y_train.shape)\n",
        "print(\"y_test shape:\", y_test.shape)"
      ],
      "metadata": {
        "id": "BJWwQ3akvHPw"
      },
      "execution_count": null,
      "outputs": []
    },
    {
      "cell_type": "code",
      "source": [
        "import time \n",
        "\n",
        "class TimeHistory(keras.callbacks.Callback):\n",
        "    def on_train_begin(self, logs={}):\n",
        "        self.times = []\n",
        "\n",
        "    def on_epoch_begin(self, batch, logs={}):\n",
        "        self.epoch_time_start = time.time()\n",
        "\n",
        "    def on_epoch_end(self, batch, logs={}):\n",
        "        self.times.append(time.time() - self.epoch_time_start)"
      ],
      "metadata": {
        "id": "8qLxIl9zPjNQ"
      },
      "execution_count": null,
      "outputs": []
    },
    {
      "cell_type": "code",
      "source": [
        "def f1_score(y_true, y_pred):\n",
        "    true_positives = K.sum(K.round(K.clip(y_true * y_pred, 0, 1)))\n",
        "    possible_positives = K.sum(K.round(K.clip(y_true, 0, 1)))\n",
        "    predicted_positives = K.sum(K.round(K.clip(y_pred, 0, 1)))\n",
        "    precision = true_positives / (predicted_positives + K.epsilon())\n",
        "    recall = true_positives / (possible_positives + K.epsilon())\n",
        "    f1_val = 2*(precision*recall)/(precision+recall+K.epsilon())\n",
        "    return f1_val"
      ],
      "metadata": {
        "id": "jz1RAWpj0SCE"
      },
      "execution_count": null,
      "outputs": []
    },
    {
      "cell_type": "code",
      "source": [
        "import sklearn\n",
        "\n",
        "METRICS = [\n",
        "           tf.keras.metrics.BinaryAccuracy(name=\"accuracy\"),\n",
        "           tf.keras.metrics.Precision(name=\"precision\"),\n",
        "           tf.keras.metrics.Recall(name=\"recall\"),\n",
        "           tf.keras.metrics.AUC(name=\"auc\"),\n",
        "           f1_score\n",
        "]"
      ],
      "metadata": {
        "id": "ZyjtgEt5xHZX"
      },
      "execution_count": null,
      "outputs": []
    },
    {
      "cell_type": "code",
      "source": [
        "lrd = ReduceLROnPlateau(monitor = 'val_loss', patience = 20, verbose = 1, factor = 0.50, min_lr = 1e-10)\n",
        "mcp = ModelCheckpoint('model.h5')\n",
        "es = EarlyStopping(verbose=1, patience=20)\n",
        "time_callback = TimeHistory()"
      ],
      "metadata": {
        "id": "jPnqKTeRx3yI"
      },
      "execution_count": null,
      "outputs": []
    },
    {
      "cell_type": "markdown",
      "source": [
        "## Xception"
      ],
      "metadata": {
        "id": "aJb5uUEZJBNi"
      }
    },
    {
      "cell_type": "code",
      "source": [
        "xception = tf.keras.applications.Xception(input_shape=(80, 80, 3), include_top=False, weights=\"imagenet\")"
      ],
      "metadata": {
        "id": "mpEI4VabvpAl"
      },
      "execution_count": null,
      "outputs": []
    },
    {
      "cell_type": "code",
      "source": [
        "for layer in xception.layers[:-5]:\n",
        "  layer.trainable=False"
      ],
      "metadata": {
        "id": "qUvvpTT91ZFp"
      },
      "execution_count": null,
      "outputs": []
    },
    {
      "cell_type": "code",
      "source": [
        "xception_model = Sequential()\n",
        "xception_model.add(xception)\n",
        "xception_model.add(Dropout(0.5))\n",
        "xception_model.add(Flatten())\n",
        "xception_model.add(Dense(256, activation=\"relu\"))\n",
        "xception_model.add(Dropout(0.3))\n",
        "xception_model.add(Dense(128, activation=\"relu\"))\n",
        "xception_model.add(Dropout(0.3))\n",
        "xception_model.add(Dense(256, activation=\"relu\"))\n",
        "xception_model.add(Dense(4, activation=\"softmax\"))"
      ],
      "metadata": {
        "id": "oxihJz_11Aeu"
      },
      "execution_count": null,
      "outputs": []
    },
    {
      "cell_type": "code",
      "source": [
        "xception_model.compile(optimizer='Adam', loss='categorical_crossentropy', metrics=METRICS)"
      ],
      "metadata": {
        "id": "XjcmVgIAx6RY"
      },
      "execution_count": null,
      "outputs": []
    },
    {
      "cell_type": "code",
      "source": [
        "%time\n",
        "xception_history = xception_model.fit(X_train, y_train, epochs=20, validation_data=(X_test, y_test), batch_size=64, verbose=1, callbacks=[lrd, mcp, es, time_callback])"
      ],
      "metadata": {
        "id": "Lb3BOVQdyAhR"
      },
      "execution_count": null,
      "outputs": []
    },
    {
      "cell_type": "code",
      "source": [
        "from tensorflow.keras.utils import plot_model\n",
        "from IPython.display import Image\n",
        "\n",
        "plot_model(xception, to_file=\"xception.png\", show_shapes=True, show_layer_names=True)\n",
        "Image(filename=\"xception.png\")"
      ],
      "metadata": {
        "id": "LGHr_fj0zXyn"
      },
      "execution_count": null,
      "outputs": []
    },
    {
      "cell_type": "code",
      "source": [
        "times = time_callback.times\n",
        "print(times)"
      ],
      "metadata": {
        "id": "wCtrf-J4idN4"
      },
      "execution_count": null,
      "outputs": []
    },
    {
      "cell_type": "code",
      "source": [
        "with open(f'{dataset_path}/xception_epoch_20_80_80.pkl', 'wb') as file_pi:\n",
        "        pickle.dump(xception_history.history, file_pi)"
      ],
      "metadata": {
        "id": "FBZIOySyclZA"
      },
      "execution_count": null,
      "outputs": []
    },
    {
      "cell_type": "code",
      "source": [
        "xception_model.save(f'{dataset_path}/model_xception_epoch_20_80_80')"
      ],
      "metadata": {
        "id": "AKYYikLvfoye"
      },
      "execution_count": null,
      "outputs": []
    },
    {
      "cell_type": "markdown",
      "source": [
        "## ResNet50"
      ],
      "metadata": {
        "id": "8sPB7tnNI8AB"
      }
    },
    {
      "cell_type": "code",
      "source": [
        "resnet = tf.keras.applications.ResNet50(input_shape=(80, 80, 3), include_top=False, weights=\"imagenet\")"
      ],
      "metadata": {
        "id": "4ab1BIT20nY5"
      },
      "execution_count": null,
      "outputs": []
    },
    {
      "cell_type": "code",
      "source": [
        "for layer in resnet.layers[:-5]:\n",
        "  layer.trainable=False"
      ],
      "metadata": {
        "id": "MfZ2wpDW094R"
      },
      "execution_count": null,
      "outputs": []
    },
    {
      "cell_type": "code",
      "source": [
        "resnet_model = Sequential()\n",
        "resnet_model.add(resnet)\n",
        "resnet_model.add(Dropout(0.5))\n",
        "resnet_model.add(Flatten())\n",
        "resnet_model.add(Dense(256, activation=\"relu\"))\n",
        "resnet_model.add(Dropout(0.3))\n",
        "resnet_model.add(Dense(128, activation=\"relu\"))\n",
        "resnet_model.add(Dropout(0.3))\n",
        "resnet_model.add(Dense(256, activation=\"relu\"))\n",
        "resnet_model.add(Dense(4, activation=\"softmax\"))"
      ],
      "metadata": {
        "id": "wGAihSGdwFS5"
      },
      "execution_count": null,
      "outputs": []
    },
    {
      "cell_type": "code",
      "source": [
        "resnet_model.compile(optimizer='Adam', loss='categorical_crossentropy', metrics=METRICS)"
      ],
      "metadata": {
        "id": "toZ9eBHU2wbz"
      },
      "execution_count": null,
      "outputs": []
    },
    {
      "cell_type": "code",
      "source": [
        "%time\n",
        "resnet_history = resnet_model.fit(X_train, y_train, epochs=20, validation_data=(X_test, y_test), batch_size=64, verbose=1, callbacks=[lrd, mcp, es, time_callback])"
      ],
      "metadata": {
        "id": "rNvpfnk02q0W"
      },
      "execution_count": null,
      "outputs": []
    },
    {
      "cell_type": "code",
      "source": [
        "from tensorflow.keras.utils import plot_model\n",
        "from IPython.display import Image\n",
        "\n",
        "plot_model(resnet, to_file=\"resnet.png\", show_shapes=True, show_layer_names=True)\n",
        "Image(filename=\"resnet.png\")"
      ],
      "metadata": {
        "id": "Z0VgRMM80wzI"
      },
      "execution_count": null,
      "outputs": []
    },
    {
      "cell_type": "code",
      "source": [
        "times = time_callback.times\n",
        "print(times)"
      ],
      "metadata": {
        "id": "lnmbtKI624kM"
      },
      "execution_count": null,
      "outputs": []
    },
    {
      "cell_type": "code",
      "source": [
        "with open(f'{dataset_path}/resnet_epoch_20_80_80.pkl', 'wb') as file_pi:\n",
        "        pickle.dump(resnet_history.history, file_pi)"
      ],
      "metadata": {
        "id": "dtU4ctyY2_hI"
      },
      "execution_count": null,
      "outputs": []
    },
    {
      "cell_type": "code",
      "source": [
        "resnet_model.save(f'{dataset_path}/model_resnet_epoch_20_80_80')"
      ],
      "metadata": {
        "id": "IQnFH-hX0WXz"
      },
      "execution_count": null,
      "outputs": []
    },
    {
      "cell_type": "code",
      "source": [
        "resnet_model.summary()"
      ],
      "metadata": {
        "id": "ERqVscMqwjzX"
      },
      "execution_count": null,
      "outputs": []
    },
    {
      "cell_type": "code",
      "source": [
        "from tensorflow.keras.utils import plot_model\n",
        "from IPython.display import Image\n",
        "\n",
        "plot_model(resnet_model, to_file=\"resnet_model.png\", show_shapes=True, show_layer_names=True)\n",
        "Image(filename=\"resnet_model.png\")"
      ],
      "metadata": {
        "id": "9FaeoeFSwrna"
      },
      "execution_count": null,
      "outputs": []
    },
    {
      "cell_type": "markdown",
      "source": [
        "## Simple"
      ],
      "metadata": {
        "id": "grfn5vPlJKLY"
      }
    },
    {
      "cell_type": "code",
      "source": [
        "model_simple = Sequential()\n",
        "model_simple.add(Conv2D(16, (3, 3), activation='relu'))\n",
        "model_simple.add(MaxPooling2D((2, 2)))\n",
        "model_simple.add(Conv2D(32, (3, 3), activation='relu'))\n",
        "model_simple.add(MaxPooling2D((2, 2)))\n",
        "model_simple.add(Flatten())\n",
        "model_simple.add(Dense(16, activation='relu'))\n",
        "model_simple.add(Dense(16, activation='relu'))\n",
        "model_simple.add(Dropout(0.3))\n",
        "model_simple.add(Dense(4, activation=\"softmax\"))"
      ],
      "metadata": {
        "id": "QchQveXGJL4u"
      },
      "execution_count": null,
      "outputs": []
    },
    {
      "cell_type": "code",
      "source": [
        "model_simple.compile(optimizer='Adam', loss='categorical_crossentropy', metrics=METRICS)"
      ],
      "metadata": {
        "id": "hZEdMRkGJcm8"
      },
      "execution_count": null,
      "outputs": []
    },
    {
      "cell_type": "code",
      "source": [
        "%time\n",
        "history_simple = model_simple.fit(X_train, y_train, epochs=20, validation_data=(X_test, y_test), batch_size=64, verbose=1, callbacks=[lrd, mcp, es, time_callback])"
      ],
      "metadata": {
        "id": "uDRhy-baJgck"
      },
      "execution_count": null,
      "outputs": []
    },
    {
      "cell_type": "code",
      "source": [
        "model_simple.summary()"
      ],
      "metadata": {
        "id": "c-0_lUjUMMHD"
      },
      "execution_count": null,
      "outputs": []
    },
    {
      "cell_type": "code",
      "source": [
        "from tensorflow.keras.utils import plot_model\n",
        "from IPython.display import Image\n",
        "\n",
        "plot_model(model_simple, to_file=\"convnet.png\", show_shapes=True, show_layer_names=True)\n",
        "Image(filename=\"convnet.png\")"
      ],
      "metadata": {
        "id": "66jLU98zMSW5"
      },
      "execution_count": null,
      "outputs": []
    },
    {
      "cell_type": "code",
      "source": [
        "times = time_callback.times\n",
        "print(times)"
      ],
      "metadata": {
        "id": "kXHoYW_GyGSh"
      },
      "execution_count": null,
      "outputs": []
    },
    {
      "cell_type": "code",
      "source": [
        "with open(f'{dataset_path}/simple_epoch_20_80_80.pkl', 'wb') as file_pi:\n",
        "        pickle.dump(history_simple.history, file_pi)"
      ],
      "metadata": {
        "id": "FR8bS5iEl-Up"
      },
      "execution_count": null,
      "outputs": []
    },
    {
      "cell_type": "code",
      "source": [
        "model_simple.save(f'{dataset_path}/model_simple_epoch_20_80_80')"
      ],
      "metadata": {
        "id": "_QUFSi2lDGPA"
      },
      "execution_count": null,
      "outputs": []
    },
    {
      "cell_type": "markdown",
      "source": [
        "## Common"
      ],
      "metadata": {
        "id": "cj79IwlPJNmg"
      }
    },
    {
      "cell_type": "code",
      "source": [
        "times_xception = [251.20164227485657, 230.650208234787, 230.2002878189087, 229.25759291648865, 230.1872398853302, 228.3032259941101, 228.92920637130737, 228.53148126602173, 226.7629246711731, 226.5128927230835, 227.91919088363647, 227.28745412826538, 227.61123967170715, 227.70413732528687, 227.7826268672943, 227.32461977005005, 228.01096487045288, 226.33702516555786, 226.996075630188, 226.78124475479126]\n",
        "times_resnet = [170.07486009597778, 158.72148513793945, 158.89877462387085, 158.84877133369446, 158.47053003311157, 158.5059313774109, 158.54066944122314, 158.60045862197876, 158.33677172660828, 158.79621529579163, 158.31911182403564, 158.33913111686707, 158.55075979232788, 158.62329816818237, 158.23744988441467, 158.24436902999878, 158.09473824501038, 158.22466158866882, 158.36276364326477, 158.6155173778534]\n",
        "times_normal = [30.092936038970947, 29.78129005432129, 25.5189368724823, 24.822543144226074, 25.094614028930664, 24.917269229888916, 25.530674934387207, 25.31166958808899, 25.527685165405273, 24.840967416763306, 24.882030487060547, 25.337437391281128, 24.880992650985718, 24.911091804504395, 24.83761978149414, 24.741199254989624, 24.787998914718628, 24.885679244995117, 24.84987711906433, 24.846619129180908]"
      ],
      "metadata": {
        "id": "XVrm5r8TyZe5"
      },
      "execution_count": null,
      "outputs": []
    },
    {
      "cell_type": "code",
      "source": [
        "fig, ax = plt.subplots(figsize=(16, 12))\n",
        "\n",
        "ax.bar(range(1, len(times_xception) + 1), times_xception)\n",
        "ax.bar(range(1, len(times_resnet) + 1), times_resnet)\n",
        "ax.bar(range(1, len(times_normal) + 1), times_normal)\n",
        "\n",
        "ax.set_xlabel('Epochs')\n",
        "ax.set_ylabel('Time')\n",
        "ax.legend(['Xception', 'ResNet', 'Normal'])\n",
        "\n",
        "plt.show()"
      ],
      "metadata": {
        "id": "EblFL9OAygSY"
      },
      "execution_count": null,
      "outputs": []
    },
    {
      "cell_type": "code",
      "source": [
        "xception_history_loaded = pickle.load(open(f'{dataset_path}/xception_epoch_20_80_80.pkl', \"rb\"))"
      ],
      "metadata": {
        "id": "bIKVuc98Fww7"
      },
      "execution_count": null,
      "outputs": []
    },
    {
      "cell_type": "code",
      "source": [
        "resnet_history_loaded = pickle.load(open(f'{dataset_path}/resnet_epoch_20_80_80.pkl', \"rb\"))"
      ],
      "metadata": {
        "id": "VfC0AxukGNIS"
      },
      "execution_count": null,
      "outputs": []
    },
    {
      "cell_type": "code",
      "source": [
        "normal_history_loaded = pickle.load(open(f'{dataset_path}/simple_epoch_20_80_80.pkl', \"rb\"))"
      ],
      "metadata": {
        "id": "foO0j1t_GJ2Q"
      },
      "execution_count": null,
      "outputs": []
    },
    {
      "cell_type": "code",
      "source": [
        "legends = ['Xception - training', 'Xception - validation', 'ResNet - training', 'ResNet - validation', 'Normal - training', 'Normal - validation']"
      ],
      "metadata": {
        "id": "GMCW95LnK2-0"
      },
      "execution_count": null,
      "outputs": []
    },
    {
      "cell_type": "code",
      "source": [
        "fig, ax = plt.subplots(figsize=(16, 12))\n",
        "\n",
        "acc, val_acc = xception_history_loaded['accuracy'], xception_history_loaded['val_accuracy']\n",
        "ax.plot(range(1, len(acc) + 1), acc)\n",
        "ax.plot(range(1, len(val_acc) + 1), val_acc)\n",
        "\n",
        "acc, val_acc = resnet_history_loaded['accuracy'], resnet_history_loaded['val_accuracy']\n",
        "ax.plot(range(1, len(acc) + 1), acc)\n",
        "ax.plot(range(1, len(val_acc) + 1), val_acc)\n",
        "\n",
        "acc, val_acc = normal_history_loaded['accuracy'], normal_history_loaded['val_accuracy']\n",
        "ax.plot(range(1, len(acc) + 1), acc)\n",
        "ax.plot(range(1, len(val_acc) + 1), val_acc)\n",
        "\n",
        "ax.set_xlabel('Epochs')\n",
        "ax.set_ylabel('Accuracy')\n",
        "ax.legend(legends)\n",
        "\n",
        "plt.show()"
      ],
      "metadata": {
        "id": "WK_GSV-JHbBb"
      },
      "execution_count": null,
      "outputs": []
    },
    {
      "cell_type": "code",
      "source": [
        "fig, ax = plt.subplots(figsize=(16, 12))\n",
        "\n",
        "loss, val_loss = xception_history_loaded['loss'], xception_history_loaded['val_loss']\n",
        "ax.plot(range(1, len(loss) + 1), loss)\n",
        "ax.plot(range(1, len(val_loss) + 1), val_loss)\n",
        "\n",
        "acc, val_acc = resnet_history_loaded['loss'], resnet_history_loaded['loss']\n",
        "ax.plot(range(1, len(acc) + 1), acc)\n",
        "ax.plot(range(1, len(val_acc) + 1), val_acc)\n",
        "\n",
        "loss, val_loss = history_simple.history['loss'], history_simple.history['val_loss']\n",
        "ax.plot(range(1, len(loss) + 1), loss)\n",
        "ax.plot(range(1, len(val_loss) + 1), val_loss)\n",
        "\n",
        "ax.set_xlabel('Epochs')\n",
        "ax.set_ylabel('Loss')\n",
        "ax.legend(legends)\n",
        "\n",
        "plt.show()"
      ],
      "metadata": {
        "id": "z05FTicFHrln"
      },
      "execution_count": null,
      "outputs": []
    },
    {
      "cell_type": "code",
      "source": [
        "fig, ax = plt.subplots(figsize=(16, 12))\n",
        "\n",
        "loss, val_loss = xception_history_loaded['auc'], xception_history_loaded['val_auc']\n",
        "ax.plot(range(1, len(loss) + 1), loss)\n",
        "ax.plot(range(1, len(val_loss) + 1), val_loss)\n",
        "\n",
        "acc, val_acc = resnet_history_loaded['auc'], resnet_history_loaded['val_auc']\n",
        "ax.plot(range(1, len(acc) + 1), acc)\n",
        "ax.plot(range(1, len(val_acc) + 1), val_acc)\n",
        "\n",
        "auc, val_auc = history_simple.history['auc'], history_simple.history['val_auc']\n",
        "ax.plot(range(1, len(auc) + 1), auc)\n",
        "ax.plot(range(1, len(val_auc) + 1), val_auc)\n",
        "\n",
        "ax.set_xlabel('Epochs')\n",
        "ax.set_ylabel('AUC')\n",
        "ax.legend(legends)\n",
        "\n",
        "plt.show()"
      ],
      "metadata": {
        "id": "74VjA-3GIAOU"
      },
      "execution_count": null,
      "outputs": []
    },
    {
      "cell_type": "code",
      "source": [
        "fig, ax = plt.subplots(figsize=(16, 12))\n",
        "\n",
        "loss, val_loss = xception_history_loaded['precision'], xception_history_loaded['val_precision']\n",
        "ax.plot(range(1, len(loss) + 1), loss)\n",
        "ax.plot(range(1, len(val_loss) + 1), val_loss)\n",
        "\n",
        "acc, val_acc = resnet_history_loaded['precision'], resnet_history_loaded['val_precision']\n",
        "ax.plot(range(1, len(acc) + 1), acc)\n",
        "ax.plot(range(1, len(val_acc) + 1), val_acc)\n",
        "\n",
        "precision, val_precision = history_simple.history['precision'], history_simple.history['val_precision']\n",
        "ax.plot(range(1, len(precision) + 1), precision)\n",
        "ax.plot(range(1, len(val_precision) + 1), val_precision)\n",
        "\n",
        "ax.set_xlabel('Epochs')\n",
        "ax.set_ylabel('Precision')\n",
        "ax.legend(legends)\n",
        "\n",
        "plt.show()"
      ],
      "metadata": {
        "id": "UCWecLTYIOML"
      },
      "execution_count": null,
      "outputs": []
    },
    {
      "cell_type": "code",
      "source": [
        "fig, ax = plt.subplots(figsize=(16, 12))\n",
        "\n",
        "loss, val_loss = xception_history_loaded['f1_score'], xception_history_loaded['val_f1_score']\n",
        "ax.plot(range(1, len(loss) + 1), loss)\n",
        "ax.plot(range(1, len(val_loss) + 1), val_loss)\n",
        "\n",
        "acc, val_acc = resnet_history_loaded['f1_score'], resnet_history_loaded['val_f1_score']\n",
        "ax.plot(range(1, len(acc) + 1), acc)\n",
        "ax.plot(range(1, len(val_acc) + 1), val_acc)\n",
        "\n",
        "f1, val_f1 = history_simple.history['f1_score'], history_simple.history['val_f1_score']\n",
        "ax.plot(range(1, len(f1) + 1), f1)\n",
        "ax.plot(range(1, len(val_f1) + 1), val_f1)\n",
        "\n",
        "ax.set_xlabel('Epochs')\n",
        "ax.set_ylabel('F1-Score')\n",
        "ax.legend(legends)\n",
        "\n",
        "plt.show()"
      ],
      "metadata": {
        "id": "yG7BsveeIjxL"
      },
      "execution_count": null,
      "outputs": []
    },
    {
      "cell_type": "markdown",
      "source": [
        "## Test"
      ],
      "metadata": {
        "id": "dRKLwpgfznGY"
      }
    },
    {
      "cell_type": "code",
      "source": [
        "evaluate_resnet = resnet_model.evaluate(X_test, y_test)"
      ],
      "metadata": {
        "id": "-YKAFAkk1xNl"
      },
      "execution_count": null,
      "outputs": []
    },
    {
      "cell_type": "code",
      "source": [
        "evaluate_resnet"
      ],
      "metadata": {
        "id": "DtUAplYGKIkf"
      },
      "execution_count": null,
      "outputs": []
    },
    {
      "cell_type": "code",
      "source": [
        "evaluate_xception = xception_model.evaluate(X_test, y_test)"
      ],
      "metadata": {
        "id": "_aZ6HsrIK5d-"
      },
      "execution_count": null,
      "outputs": []
    },
    {
      "cell_type": "code",
      "source": [
        "evaluate_xception"
      ],
      "metadata": {
        "id": "zLTMJxmzLE3I"
      },
      "execution_count": null,
      "outputs": []
    },
    {
      "cell_type": "code",
      "source": [
        "evaluate_simple = model_simple.evaluate(X_test, y_test)"
      ],
      "metadata": {
        "id": "clTAJelLJ_dF"
      },
      "execution_count": null,
      "outputs": []
    },
    {
      "cell_type": "code",
      "source": [
        "evaluate_simple"
      ],
      "metadata": {
        "id": "FqFfuRdIJ4Wm"
      },
      "execution_count": null,
      "outputs": []
    },
    {
      "cell_type": "code",
      "source": [
        "del len"
      ],
      "metadata": {
        "id": "jxTea7_wOfsa"
      },
      "execution_count": null,
      "outputs": []
    },
    {
      "cell_type": "code",
      "source": [
        "m = ['Loss', 'Accuracy', 'Precision', 'Recall', 'AUC', 'F1 Score']\n",
        "fig, ax = plt.subplots(figsize=(16, 12))\n",
        "\n",
        "X_axis = np.arange(len(m))\n",
        "\n",
        "ax.bar(X_axis - 0.2, evaluate_xception, 0.2)\n",
        "ax.bar(X_axis, evaluate_resnet, 0.2)\n",
        "ax.bar(X_axis + 0.2, evaluate_simple, 0.2)\n",
        "\n",
        "plt.xticks(X_axis, m)\n",
        "\n",
        "ax.set_xlabel('Metric')\n",
        "ax.set_ylabel('Value')\n",
        "ax.legend(['Xception', 'ResNet', 'Normal'])\n",
        "\n",
        "plt.show()"
      ],
      "metadata": {
        "id": "ttsPybu0MIrE"
      },
      "execution_count": null,
      "outputs": []
    },
    {
      "cell_type": "code",
      "source": [
        "import numpy as np\n",
        "\n",
        "df_submission = pd.read_csv(f'{dataset_path}/sample_submission.csv')\n",
        "print(df_submission.shape)\n",
        "df_submission.head()"
      ],
      "metadata": {
        "id": "VZ9gsjqJ11gB"
      },
      "execution_count": null,
      "outputs": []
    },
    {
      "cell_type": "code",
      "source": [
        "df_submission.to_csv(\"submission.csv\", index=False)\n",
        "df_submission"
      ],
      "metadata": {
        "id": "IVPYq0MU1VSj"
      },
      "execution_count": null,
      "outputs": []
    }
  ]
}