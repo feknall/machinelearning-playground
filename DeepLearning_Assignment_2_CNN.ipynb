{
  "nbformat": 4,
  "nbformat_minor": 0,
  "metadata": {
    "colab": {
      "name": "DeepLearning-Assignment-2-CNN.ipynb",
      "provenance": [],
      "collapsed_sections": [],
      "include_colab_link": true
    },
    "kernelspec": {
      "name": "python3",
      "display_name": "Python 3"
    },
    "language_info": {
      "name": "python"
    },
    "accelerator": "GPU"
  },
  "cells": [
    {
      "cell_type": "markdown",
      "metadata": {
        "id": "view-in-github",
        "colab_type": "text"
      },
      "source": [
        "<a href=\"https://colab.research.google.com/github/feknall/machinelearning-playground/blob/main/DeepLearning_Assignment_2_CNN.ipynb\" target=\"_parent\"><img src=\"https://colab.research.google.com/assets/colab-badge.svg\" alt=\"Open In Colab\"/></a>"
      ]
    },
    {
      "cell_type": "code",
      "source": [
        "! pip install keras-tuner --upgrade"
      ],
      "metadata": {
        "id": "G8mO9jtjtQF7"
      },
      "execution_count": null,
      "outputs": []
    },
    {
      "cell_type": "code",
      "source": [
        "%load_ext tensorboard"
      ],
      "metadata": {
        "id": "ZbijeDdR7QmI"
      },
      "execution_count": null,
      "outputs": []
    },
    {
      "cell_type": "markdown",
      "source": [
        "# Preprocessing"
      ],
      "metadata": {
        "id": "DhDhaFdxFS6W"
      }
    },
    {
      "cell_type": "code",
      "source": [
        "import matplotlib.pyplot as plt\n",
        "import numpy as np\n",
        "import pandas as pd\n",
        "import os"
      ],
      "metadata": {
        "id": "kfK_pdsKb6RF"
      },
      "execution_count": null,
      "outputs": []
    },
    {
      "cell_type": "code",
      "source": [
        "import numpy as np\n",
        "from tensorflow.keras.datasets import mnist\n",
        "\n",
        "(train_X, train_y), (test_X, test_y) = mnist.load_data()\n",
        "\n",
        "print('Train: X=%s, y=%s' % (train_X.shape, train_y.shape))\n",
        "print('Test: X=%s, y=%s' % (test_X.shape, test_y.shape))"
      ],
      "metadata": {
        "id": "xtLGzdx2YzBY"
      },
      "execution_count": null,
      "outputs": []
    },
    {
      "cell_type": "code",
      "source": [
        "from google.colab import drive\n",
        "drive.flush_and_unmount()"
      ],
      "metadata": {
        "id": "bG2Vsk4-_GJ0"
      },
      "execution_count": null,
      "outputs": []
    },
    {
      "cell_type": "code",
      "source": [
        "from google.colab import drive\n",
        "drive.mount('/content/drive')"
      ],
      "metadata": {
        "id": "8PyVlsjDSP1v"
      },
      "execution_count": null,
      "outputs": []
    },
    {
      "cell_type": "code",
      "source": [
        "plt.hist(train_y, edgecolor='black', bins=np.arange(-0.5, 10))\n",
        "plt.hist(test_y, edgecolor='black', bins=np.arange(-0.5, 10))\n",
        "plt.subplots_adjust(top=1.4)\n",
        "plt.legend([\"training\", \"test\"], loc =\"top right\")\n",
        "\n",
        "plt.title('Distribution of Digits on Training and Test Dataset')\n",
        "plt.xlabel('Digit')\n",
        "plt.ylabel('Count')\n",
        "plt.xticks(np.arange(0, 10))\n",
        "plt.show()"
      ],
      "metadata": {
        "id": "iCUGzxJ5Q8Fr"
      },
      "execution_count": null,
      "outputs": []
    },
    {
      "cell_type": "code",
      "source": [
        "import shutil\n",
        "import random\n",
        "\n",
        "import matplotlib.pyplot as plt\n",
        "from imblearn.over_sampling import RandomOverSampler\n",
        "from imblearn.under_sampling import RandomUnderSampler\n",
        "\n",
        "\n",
        "import tensorflow as tf\n",
        "from tensorflow.keras.preprocessing.image import ImageDataGenerator\n",
        "from tensorflow.keras.applications import DenseNet201\n",
        "\n",
        "import cv2\n",
        "\n",
        "import warnings\n",
        "warnings.filterwarnings('ignore')"
      ],
      "metadata": {
        "id": "K0uIySNfcMcJ"
      },
      "execution_count": null,
      "outputs": []
    },
    {
      "cell_type": "code",
      "source": [
        "print(train_y[5])"
      ],
      "metadata": {
        "id": "n1L8jYcQAq5T"
      },
      "execution_count": null,
      "outputs": []
    },
    {
      "cell_type": "code",
      "source": [
        "rows = 5\n",
        "columns = 10\n",
        "for digit in range(columns):\n",
        "\t\tselected = [index for index, value in enumerate(train_y) if value == digit][:rows]\n",
        "\t\tfor index, value in enumerate(selected):\n",
        "\t\t\tk = index * columns + digit + 1\n",
        "\t\t\tplt.subplot(rows, columns, k)\n",
        "\t\t\tplt.imshow(train_X[value], cmap=plt.get_cmap('gray'))\n",
        "\t\t\tplt.axis('off')\n",
        "\t\t\tplt.subplots_adjust(wspace=0.1, hspace=0.01)\n",
        "plt.show()"
      ],
      "metadata": {
        "id": "oH0QG82FcJvo"
      },
      "execution_count": null,
      "outputs": []
    },
    {
      "cell_type": "code",
      "source": [
        "train_X = train_X.reshape((-1, 28, 28, 1))\n",
        "test_X = test_X.reshape((-1, 28, 28, 1))"
      ],
      "metadata": {
        "id": "hUOFuugEcNig"
      },
      "execution_count": null,
      "outputs": []
    },
    {
      "cell_type": "code",
      "source": [
        "from tensorflow.keras.utils import to_categorical\n",
        "\n",
        "train_y = to_categorical(train_y)\n",
        "test_y = to_categorical(test_y)"
      ],
      "metadata": {
        "id": "C9eEWz6IcZaw"
      },
      "execution_count": null,
      "outputs": []
    },
    {
      "cell_type": "code",
      "source": [
        "# convert from integers to floats\n",
        "train_X = train_X.astype('float32')\n",
        "test_X = test_X.astype('float32')\n",
        "\n",
        "# normalize to range 0-1\n",
        "train_X = train_X / 255.0\n",
        "test_X = test_X / 255.0\n",
        "\n",
        "print(train_X.shape)\n",
        "print(train_y.shape)\n",
        "\n",
        "print(test_X.shape)\n",
        "print(test_y.shape)"
      ],
      "metadata": {
        "id": "3Op7P3xBeBES"
      },
      "execution_count": null,
      "outputs": []
    },
    {
      "cell_type": "markdown",
      "source": [
        "# Base Model\n"
      ],
      "metadata": {
        "id": "5wuNa6AgEd6u"
      }
    },
    {
      "cell_type": "code",
      "source": [
        "from keras.models import Sequential\n",
        "from keras.layers import Dense, Dropout, Flatten, Conv2D, MaxPool2D, AvgPool2D, BatchNormalization, Reshape,MaxPooling2D\n",
        "\n",
        "model = Sequential()\n",
        "model.add(Conv2D(16, (3, 3), activation='relu', kernel_initializer='he_uniform', padding='same'))\n",
        "model.add(MaxPooling2D((2, 2)))\n",
        "model.add(Conv2D(32, (3, 3), activation='relu', kernel_initializer='he_uniform', padding='same'))\n",
        "model.add(MaxPooling2D((2, 2)))\n",
        "model.add(Flatten())\n",
        "model.add(Dense(16, activation='relu', kernel_initializer='he_uniform'))\n",
        "model.add(Dense(16, activation='relu', kernel_initializer='he_uniform'))\n",
        "model.add(Dropout(0.3))\n",
        "model.add(Dense(10, activation='softmax'))\n",
        "\n",
        "model.compile(optimizer=\"adam\", loss=\"categorical_crossentropy\", metrics=[\"accuracy\"])"
      ],
      "metadata": {
        "id": "O6UJkZCGEdRc"
      },
      "execution_count": null,
      "outputs": []
    },
    {
      "cell_type": "code",
      "source": [
        "from keras.callbacks import LearningRateScheduler\n",
        "\n",
        "experiment_train_size = 20000\n",
        "X = train_X[:experiment_train_size]\n",
        "y = train_y[:experiment_train_size]\n",
        "\n",
        "history = model.fit(X, y, validation_split=0.2, epochs=30, callbacks=[tf.keras.callbacks.TensorBoard(\"/content/drive/MyDrive/ai-gras-1/base-model/tensorboard\")])"
      ],
      "metadata": {
        "id": "PdLyb2LRE60O"
      },
      "execution_count": null,
      "outputs": []
    },
    {
      "cell_type": "markdown",
      "source": [
        "## Reading Tensorboard Log Files"
      ],
      "metadata": {
        "id": "3NZ9nYv_9k0i"
      }
    },
    {
      "cell_type": "code",
      "source": [
        "from tensorboard.backend.event_processing.event_accumulator import EventAccumulator\n",
        "import tensorflow as tf\n",
        "\n",
        "def plot_tensorflow_log(path):\n",
        "\n",
        "    # Loading too much data is slow...\n",
        "    tf_size_guidance = {\n",
        "        # 'compressedHistograms': 100,\n",
        "        # 'images': 0,\n",
        "        # 'scalars': 10000,\n",
        "        # 'histograms': 1000\n",
        "        'tensors': 200\n",
        "    }\n",
        "\n",
        "    event_acc = EventAccumulator(path, tf_size_guidance)\n",
        "    event_acc.Reload()\n",
        "\n",
        "    print(event_acc.Tags())\n",
        "\n",
        "    training_accuracies = event_acc.Tensors('epoch_accuracy')\n",
        "    tensor_np = tf.make_ndarray(training_accuracies[-1].tensor_proto)\n",
        "\n",
        "    print(tensor_np)\n",
        "\n",
        "    y = list()\n",
        "    x = list()\n",
        "    for i in range(len(training_accuracies)):\n",
        "        y.append(tf.make_ndarray(training_accuracies[i].tensor_proto))\n",
        "        x.append(i)\n",
        "\n",
        "    return x, y"
      ],
      "metadata": {
        "id": "qNKODJwH9iPZ"
      },
      "execution_count": null,
      "outputs": []
    },
    {
      "cell_type": "code",
      "source": [
        "from tensorboard.backend.event_processing.event_accumulator import EventAccumulator\n",
        "import tensorflow as tf\n",
        "\n",
        "def plot_tensorflow_log_loss(path):\n",
        "\n",
        "    # Loading too much data is slow...\n",
        "    tf_size_guidance = {\n",
        "        # 'compressedHistograms': 100,\n",
        "        # 'images': 0,\n",
        "        # 'scalars': 10000,\n",
        "        # 'histograms': 1000\n",
        "        'tensors': 200\n",
        "    }\n",
        "\n",
        "    event_acc = EventAccumulator(path, tf_size_guidance)\n",
        "    event_acc.Reload()\n",
        "\n",
        "    print(event_acc.Tags())\n",
        "\n",
        "    training_accuracies = event_acc.Tensors('epoch_loss')\n",
        "    tensor_np = tf.make_ndarray(training_accuracies[-1].tensor_proto)\n",
        "\n",
        "    # print(tensor_np)\n",
        "\n",
        "    y = list()\n",
        "    x = list()\n",
        "    for i in range(len(training_accuracies)):\n",
        "        y.append(tf.make_ndarray(training_accuracies[i].tensor_proto))\n",
        "        x.append(i)\n",
        "\n",
        "    return x, y"
      ],
      "metadata": {
        "id": "28hKZ9_29ygW"
      },
      "execution_count": null,
      "outputs": []
    },
    {
      "cell_type": "code",
      "source": [
        "from tensorboard.backend.event_processing.event_accumulator import EventAccumulator\n",
        "import tensorflow as tf\n",
        "\n",
        "def plot_tensorflow_log_precision(path):\n",
        "\n",
        "    # Loading too much data is slow...\n",
        "    tf_size_guidance = {\n",
        "        # 'compressedHistograms': 100,\n",
        "        # 'images': 0,\n",
        "        # 'scalars': 10000,\n",
        "        # 'histograms': 1000\n",
        "        'tensors': 200\n",
        "    }\n",
        "\n",
        "    event_acc = EventAccumulator(path, tf_size_guidance)\n",
        "    event_acc.Reload()\n",
        "\n",
        "    print(event_acc.Tags())\n",
        "\n",
        "    training_accuracies = event_acc.Tensors('epoch_precision')\n",
        "    tensor_np = tf.make_ndarray(training_accuracies[-1].tensor_proto)\n",
        "\n",
        "    # print(tensor_np)\n",
        "\n",
        "    y = list()\n",
        "    x = list()\n",
        "    for i in range(len(training_accuracies)):\n",
        "        y.append(tf.make_ndarray(training_accuracies[i].tensor_proto))\n",
        "        x.append(i)\n",
        "\n",
        "    return x, y"
      ],
      "metadata": {
        "id": "VoN_v74W90dz"
      },
      "execution_count": null,
      "outputs": []
    },
    {
      "cell_type": "code",
      "source": [
        "from tensorboard.backend.event_processing.event_accumulator import EventAccumulator\n",
        "import tensorflow as tf\n",
        "\n",
        "def plot_tensorflow_log_recall(path):\n",
        "\n",
        "    # Loading too much data is slow...\n",
        "    tf_size_guidance = {\n",
        "        # 'compressedHistograms': 100,\n",
        "        # 'images': 0,\n",
        "        # 'scalars': 10000,\n",
        "        # 'histograms': 1000\n",
        "        'tensors': 200\n",
        "    }\n",
        "\n",
        "    event_acc = EventAccumulator(path, tf_size_guidance)\n",
        "    event_acc.Reload()\n",
        "\n",
        "    print(event_acc.Tags())\n",
        "\n",
        "    training_accuracies = event_acc.Tensors('epoch_recall')\n",
        "    tensor_np = tf.make_ndarray(training_accuracies[-1].tensor_proto)\n",
        "\n",
        "    # print(tensor_np)\n",
        "\n",
        "    y = list()\n",
        "    x = list()\n",
        "    for i in range(len(training_accuracies)):\n",
        "        y.append(tf.make_ndarray(training_accuracies[i].tensor_proto))\n",
        "        x.append(i)\n",
        "\n",
        "    return x, y"
      ],
      "metadata": {
        "id": "p7EBbq2J92P8"
      },
      "execution_count": null,
      "outputs": []
    },
    {
      "cell_type": "markdown",
      "source": [
        "# Tunning"
      ],
      "metadata": {
        "id": "g2m1lIitFvmU"
      }
    },
    {
      "cell_type": "markdown",
      "source": [
        "## Number of Convolution Layers Tunning"
      ],
      "metadata": {
        "id": "uiq4HkrQCUh6"
      }
    },
    {
      "cell_type": "code",
      "source": [
        "from tensorflow.keras.models import Sequential\n",
        "from tensorflow.keras.layers import Dense, Dropout, Flatten, Conv2D, MaxPooling2D, ZeroPadding2D\n",
        "\n",
        "def build_model(hp):\n",
        "  conv_layers_count = hp.Int(\"conv_layers_count\", min_value=1, max_value=3, step=1)\n",
        "\n",
        "  model = Sequential()\n",
        "  if conv_layers_count == 1:\n",
        "    model.add(Conv2D(16, (3, 3), activation='relu', kernel_initializer='he_uniform', padding='same'))\n",
        "    model.add(MaxPooling2D((2, 2)))\n",
        "  if conv_layers_count == 2:\n",
        "    model.add(Conv2D(16, (3, 3), activation='relu', kernel_initializer='he_uniform', padding='same'))\n",
        "    model.add(MaxPooling2D((2, 2)))\n",
        "    model.add(Conv2D(32, (3, 3), activation='relu', kernel_initializer='he_uniform', padding='same'))\n",
        "    model.add(MaxPooling2D((2, 2)))\n",
        "  if conv_layers_count == 3:\n",
        "    model.add(Conv2D(16, (3, 3), activation='relu', kernel_initializer='he_uniform', padding='same'))\n",
        "    model.add(MaxPooling2D((2, 2)))\n",
        "    model.add(Conv2D(32, (3, 3), activation='relu', kernel_initializer='he_uniform', padding='same'))\n",
        "    model.add(MaxPooling2D((2, 2)))\n",
        "    model.add(Conv2D(64, (3, 3), activation='relu', kernel_initializer='he_uniform', padding='same'))\n",
        "    model.add(MaxPooling2D((2, 2)))\n",
        "\n",
        "  model.add(Flatten())\n",
        "  model.add(Dense(16, activation='relu', kernel_initializer='he_uniform'))\n",
        "  model.add(Dense(16, activation='relu', kernel_initializer='he_uniform'))\n",
        "  model.add(Dropout(0.3))\n",
        "  model.add(Dense(10, activation='softmax'))\n",
        "\n",
        "  model.compile(optimizer=\"SGD\", loss=\"categorical_crossentropy\", metrics=[\"accuracy\", \"Precision\", \"Recall\"])\n",
        "  return model"
      ],
      "metadata": {
        "id": "7eGIs9FeCSNh"
      },
      "execution_count": null,
      "outputs": []
    },
    {
      "cell_type": "code",
      "source": [
        "import keras_tuner as kt\n",
        "\n",
        "tuner = kt.RandomSearch(\n",
        "    hypermodel=build_model,\n",
        "    objective=\"val_accuracy\",\n",
        "    max_trials=1000,\n",
        "    executions_per_trial=1,\n",
        "    overwrite=False,\n",
        "    directory=\"/content/drive/MyDrive/deep-learning/cnn/\",\n",
        "    project_name=\"conv_layers_count\"\n",
        ")"
      ],
      "metadata": {
        "id": "sRrSN-05dNRU"
      },
      "execution_count": null,
      "outputs": []
    },
    {
      "cell_type": "code",
      "source": [
        "experiment_train_size = 10000\n",
        "X = train_X[:experiment_train_size]\n",
        "y = train_y[:experiment_train_size]"
      ],
      "metadata": {
        "id": "aC1t4u_ydPDT"
      },
      "execution_count": null,
      "outputs": []
    },
    {
      "cell_type": "code",
      "source": [
        "tuner.search(X, \n",
        "             y, \n",
        "             epochs=20, \n",
        "             validation_split=0.2, \n",
        "             callbacks=[tf.keras.callbacks.TensorBoard(\"/content/drive/MyDrive/deep-learning/cnn/conv_layers_count/callback\")],\n",
        ")"
      ],
      "metadata": {
        "id": "iAl-n-y_dQW9"
      },
      "execution_count": null,
      "outputs": []
    },
    {
      "cell_type": "code",
      "source": [
        "tuner.results_summary(num_trials=3)"
      ],
      "metadata": {
        "id": "Qrk10YjHdXtF"
      },
      "execution_count": null,
      "outputs": []
    },
    {
      "cell_type": "code",
      "source": [
        "! rm -rf /content/drive/MyDrive/deep-learning/cnn/conv_layers_count"
      ],
      "metadata": {
        "id": "F__LBnei31-c"
      },
      "execution_count": null,
      "outputs": []
    },
    {
      "cell_type": "code",
      "source": [
        "!kill 1652"
      ],
      "metadata": {
        "id": "XpNaIPWS4YMO"
      },
      "execution_count": null,
      "outputs": []
    },
    {
      "cell_type": "code",
      "source": [
        "tuner.search_space_summary(extended=True)"
      ],
      "metadata": {
        "id": "VvzrUxyJ6Q4H"
      },
      "execution_count": null,
      "outputs": []
    },
    {
      "cell_type": "code",
      "source": [
        "%tensorboard --logdir /content/drive/MyDrive/deep-learning/cnn/conv_layers_count"
      ],
      "metadata": {
        "id": "yKZZbvFE4Q9e"
      },
      "execution_count": null,
      "outputs": []
    },
    {
      "cell_type": "code",
      "source": [
        "import tensorboard as tb\n"
      ],
      "metadata": {
        "id": "-iiIbbTI8tqf"
      },
      "execution_count": null,
      "outputs": []
    },
    {
      "cell_type": "code",
      "source": [
        "import numpy as np\n",
        "\n",
        "import matplotlib as mpl\n",
        "import matplotlib.pyplot as plt\n",
        "\n",
        "\n",
        "log_file = \"/content/drive/MyDrive/deep-learning/cnn/conv_layers_count/callback/0001/execution0/train/events.out.tfevents.1649367850.979f1a549ef4.72.24.v2\"\n",
        "x, y = plot_tensorflow_log(log_file)\n",
        "plt.plot(x, y, label='1 conv layer - train')\n",
        "\n",
        "log_file = \"/content/drive/MyDrive/deep-learning/cnn/conv_layers_count/callback/0000/execution0/train/events.out.tfevents.1649367808.979f1a549ef4.72.21.v2\"\n",
        "x, y = plot_tensorflow_log(log_file)\n",
        "plt.plot(x, y, label='2 conv layer - train')\n",
        "\n",
        "log_file = \"/content/drive/MyDrive/deep-learning/cnn/conv_layers_count/callback/0002/execution0/train/events.out.tfevents.1649367890.979f1a549ef4.72.27.v2\"\n",
        "x, y = plot_tensorflow_log(log_file)\n",
        "plt.plot(x, y, label='3 conv layer - train')\n",
        "\n",
        "\n",
        "log_file = \"/content/drive/MyDrive/deep-learning/cnn/conv_layers_count/callback/0001/execution0/validation/events.out.tfevents.1649367853.979f1a549ef4.72.25.v2\"\n",
        "x, y = plot_tensorflow_log(log_file)\n",
        "plt.plot(x, y, '--', label='1 conv layer - validation')\n",
        "\n",
        "log_file = \"/content/drive/MyDrive/deep-learning/cnn/conv_layers_count/callback/0000/execution0/validation/events.out.tfevents.1649367812.979f1a549ef4.72.22.v2\"\n",
        "x, y = plot_tensorflow_log(log_file)\n",
        "plt.plot(x, y, '--', label='2 conv layer - validation')\n",
        "\n",
        "log_file = \"/content/drive/MyDrive/deep-learning/cnn/conv_layers_count/callback/0002/execution0/validation/events.out.tfevents.1649367893.979f1a549ef4.72.28.v2\"\n",
        "x, y = plot_tensorflow_log(log_file)\n",
        "plt.plot(x, y, '--', label='3 conv layer - validation')\n",
        "\n",
        "\n",
        "plt.xlabel(\"Steps\")\n",
        "plt.ylabel(\"Accuracy\")\n",
        "plt.title(\"Training Progress - SGD\")\n",
        "plt.legend(loc='down right', frameon=True)\n",
        "plt.show()"
      ],
      "metadata": {
        "id": "niI59pqR-HiX"
      },
      "execution_count": null,
      "outputs": []
    },
    {
      "cell_type": "code",
      "source": [
        "import numpy as np\n",
        "\n",
        "import matplotlib as mpl\n",
        "import matplotlib.pyplot as plt\n",
        "\n",
        "function1 = plot_tensorflow_log_loss\n",
        "\n",
        "log_file = \"/content/drive/MyDrive/deep-learning/cnn/conv_layers_count/callback/0001/execution0/train/events.out.tfevents.1649367850.979f1a549ef4.72.24.v2\"\n",
        "x, y = function1(log_file)\n",
        "plt.plot(x, y, label='1 conv layer - train')\n",
        "\n",
        "log_file = \"/content/drive/MyDrive/deep-learning/cnn/conv_layers_count/callback/0000/execution0/train/events.out.tfevents.1649367808.979f1a549ef4.72.21.v2\"\n",
        "x, y = function1(log_file)\n",
        "plt.plot(x, y, label='2 conv layer - train')\n",
        "\n",
        "log_file = \"/content/drive/MyDrive/deep-learning/cnn/conv_layers_count/callback/0002/execution0/train/events.out.tfevents.1649367890.979f1a549ef4.72.27.v2\"\n",
        "x, y = function1(log_file)\n",
        "plt.plot(x, y, label='3 conv layer - train')\n",
        "\n",
        "\n",
        "log_file = \"/content/drive/MyDrive/deep-learning/cnn/conv_layers_count/callback/0001/execution0/validation/events.out.tfevents.1649367853.979f1a549ef4.72.25.v2\"\n",
        "x, y = function1(log_file)\n",
        "plt.plot(x, y, '--', label='1 conv layer - validation')\n",
        "\n",
        "log_file = \"/content/drive/MyDrive/deep-learning/cnn/conv_layers_count/callback/0000/execution0/validation/events.out.tfevents.1649367812.979f1a549ef4.72.22.v2\"\n",
        "x, y = function1(log_file)\n",
        "plt.plot(x, y, '--', label='2 conv layer - validation')\n",
        "\n",
        "log_file = \"/content/drive/MyDrive/deep-learning/cnn/conv_layers_count/callback/0002/execution0/validation/events.out.tfevents.1649367893.979f1a549ef4.72.28.v2\"\n",
        "x, y = function1(log_file)\n",
        "plt.plot(x, y, '--', label='3 conv layer - validation')\n",
        "\n",
        "\n",
        "plt.xlabel(\"Steps\")\n",
        "plt.ylabel(\"Loss\")\n",
        "plt.title(\"Training Progress - SGD\")\n",
        "plt.legend(loc='down right', frameon=True)\n",
        "plt.show()"
      ],
      "metadata": {
        "id": "OpnIzi87_ti3"
      },
      "execution_count": null,
      "outputs": []
    },
    {
      "cell_type": "code",
      "source": [
        "import numpy as np\n",
        "\n",
        "import matplotlib as mpl\n",
        "import matplotlib.pyplot as plt\n",
        "\n",
        "function1 = plot_tensorflow_log_precision\n",
        "\n",
        "log_file = \"/content/drive/MyDrive/deep-learning/cnn/conv_layers_count/callback/0001/execution0/train/events.out.tfevents.1649367850.979f1a549ef4.72.24.v2\"\n",
        "x, y = function1(log_file)\n",
        "plt.plot(x, y, label='1 conv layer - train')\n",
        "\n",
        "log_file = \"/content/drive/MyDrive/deep-learning/cnn/conv_layers_count/callback/0000/execution0/train/events.out.tfevents.1649367808.979f1a549ef4.72.21.v2\"\n",
        "x, y = function1(log_file)\n",
        "plt.plot(x, y, label='2 conv layer - train')\n",
        "\n",
        "log_file = \"/content/drive/MyDrive/deep-learning/cnn/conv_layers_count/callback/0002/execution0/train/events.out.tfevents.1649367890.979f1a549ef4.72.27.v2\"\n",
        "x, y = function1(log_file)\n",
        "plt.plot(x, y, label='3 conv layer - train')\n",
        "\n",
        "\n",
        "log_file = \"/content/drive/MyDrive/deep-learning/cnn/conv_layers_count/callback/0001/execution0/validation/events.out.tfevents.1649367853.979f1a549ef4.72.25.v2\"\n",
        "x, y = function1(log_file)\n",
        "plt.plot(x, y, '--', label='1 conv layer - validation')\n",
        "\n",
        "log_file = \"/content/drive/MyDrive/deep-learning/cnn/conv_layers_count/callback/0000/execution0/validation/events.out.tfevents.1649367812.979f1a549ef4.72.22.v2\"\n",
        "x, y = function1(log_file)\n",
        "plt.plot(x, y, '--', label='2 conv layer - validation')\n",
        "\n",
        "log_file = \"/content/drive/MyDrive/deep-learning/cnn/conv_layers_count/callback/0002/execution0/validation/events.out.tfevents.1649367893.979f1a549ef4.72.28.v2\"\n",
        "x, y = function1(log_file)\n",
        "plt.plot(x, y, '--', label='3 conv layer - validation')\n",
        "\n",
        "\n",
        "plt.xlabel(\"Steps\")\n",
        "plt.ylabel(\"Precision\")\n",
        "plt.title(\"Training Progress - SGD\")\n",
        "plt.legend(loc='down right', frameon=True)\n",
        "plt.show()"
      ],
      "metadata": {
        "id": "SNd8Arlg_8Ht"
      },
      "execution_count": null,
      "outputs": []
    },
    {
      "cell_type": "code",
      "source": [
        "import numpy as np\n",
        "\n",
        "import matplotlib as mpl\n",
        "import matplotlib.pyplot as plt\n",
        "\n",
        "function1 = plot_tensorflow_log_recall\n",
        "\n",
        "log_file = \"/content/drive/MyDrive/deep-learning/cnn/conv_layers_count/callback/0001/execution0/train/events.out.tfevents.1649367850.979f1a549ef4.72.24.v2\"\n",
        "x, y = function1(log_file)\n",
        "plt.plot(x, y, label='1 conv layer - train')\n",
        "\n",
        "log_file = \"/content/drive/MyDrive/deep-learning/cnn/conv_layers_count/callback/0000/execution0/train/events.out.tfevents.1649367808.979f1a549ef4.72.21.v2\"\n",
        "x, y = function1(log_file)\n",
        "plt.plot(x, y, label='2 conv layer - train')\n",
        "\n",
        "log_file = \"/content/drive/MyDrive/deep-learning/cnn/conv_layers_count/callback/0002/execution0/train/events.out.tfevents.1649367890.979f1a549ef4.72.27.v2\"\n",
        "x, y = function1(log_file)\n",
        "plt.plot(x, y, label='3 conv layer - train')\n",
        "\n",
        "\n",
        "log_file = \"/content/drive/MyDrive/deep-learning/cnn/conv_layers_count/callback/0001/execution0/validation/events.out.tfevents.1649367853.979f1a549ef4.72.25.v2\"\n",
        "x, y = function1(log_file)\n",
        "plt.plot(x, y, '--', label='1 conv layer - validation')\n",
        "\n",
        "log_file = \"/content/drive/MyDrive/deep-learning/cnn/conv_layers_count/callback/0000/execution0/validation/events.out.tfevents.1649367812.979f1a549ef4.72.22.v2\"\n",
        "x, y = function1(log_file)\n",
        "plt.plot(x, y, '--', label='2 conv layer - validation')\n",
        "\n",
        "log_file = \"/content/drive/MyDrive/deep-learning/cnn/conv_layers_count/callback/0002/execution0/validation/events.out.tfevents.1649367893.979f1a549ef4.72.28.v2\"\n",
        "x, y = function1(log_file)\n",
        "plt.plot(x, y, '--', label='3 conv layer - validation')\n",
        "\n",
        "\n",
        "plt.xlabel(\"Steps\")\n",
        "plt.ylabel(\"Recall\")\n",
        "plt.title(\"Training Progress - SGD\")\n",
        "plt.legend(loc='down right', frameon=True)\n",
        "plt.show()"
      ],
      "metadata": {
        "id": "jJ4ponvkAAmX"
      },
      "execution_count": null,
      "outputs": []
    },
    {
      "cell_type": "markdown",
      "source": [
        "## Number of Hidden Layers Tunning"
      ],
      "metadata": {
        "id": "E3jqmd9Abjxx"
      }
    },
    {
      "cell_type": "code",
      "source": [
        "from tensorflow.keras.models import Sequential\n",
        "from tensorflow.keras.layers import Dense, Dropout, Flatten, Conv2D, MaxPooling2D, ZeroPadding2D\n",
        "\n",
        "def build_model(hp):\n",
        "  hidden_layers_count = hp.Int(\"hidden_layers_count\", min_value=1, max_value=3, step=1)\n",
        "  \n",
        "  model = Sequential()\n",
        "\n",
        "  model.add(Conv2D(16, (3, 3), activation='relu', kernel_initializer='he_uniform', padding='same'))\n",
        "  model.add(MaxPooling2D((2, 2)))\n",
        "  model.add(Conv2D(32, (3, 3), activation='relu', kernel_initializer='he_uniform', padding='same'))\n",
        "  model.add(MaxPooling2D((2, 2)))\n",
        "  model.add(Conv2D(64, (3, 3), activation='relu', kernel_initializer='he_uniform', padding='same'))\n",
        "  model.add(MaxPooling2D((2, 2)))\n",
        "\n",
        "  model.add(Flatten())\n",
        "  for i in range(hidden_layers_count):\n",
        "      model.add(Dense(16, activation='relu', kernel_initializer='he_uniform'))\n",
        "\n",
        "  model.add(Dropout(0.3))\n",
        "  model.add(Dense(10, activation='softmax'))\n",
        "\n",
        "  model.compile(optimizer=\"SGD\", loss=\"categorical_crossentropy\", metrics=[\"accuracy\", \"Precision\", \"Recall\"])\n",
        "\n",
        "  return model"
      ],
      "metadata": {
        "id": "vC9IJKqrCSyA"
      },
      "execution_count": null,
      "outputs": []
    },
    {
      "cell_type": "code",
      "source": [
        "import keras_tuner as kt\n",
        "\n",
        "tuner = kt.RandomSearch(\n",
        "    hypermodel=build_model,\n",
        "    objective=\"val_accuracy\",\n",
        "    max_trials=1000,\n",
        "    executions_per_trial=1,\n",
        "    overwrite=True,\n",
        "    directory=\"/content/drive/MyDrive/deep-learning/cnn/\",\n",
        "    project_name=\"dens_layers_count\"\n",
        ")"
      ],
      "metadata": {
        "id": "HoaXuQb_c-YY"
      },
      "execution_count": null,
      "outputs": []
    },
    {
      "cell_type": "code",
      "source": [
        "experiment_train_size = 10000\n",
        "X = train_X[:experiment_train_size]\n",
        "y = train_y[:experiment_train_size]"
      ],
      "metadata": {
        "id": "zXEbowGldLLP"
      },
      "execution_count": null,
      "outputs": []
    },
    {
      "cell_type": "code",
      "source": [
        "tuner.search(X, \n",
        "             y, \n",
        "             epochs=20, \n",
        "             validation_split=0.2, \n",
        "             callbacks=[tf.keras.callbacks.TensorBoard(\"/content/drive/MyDrive/deep-learning/cnn/dens_layers_count/callback\")],\n",
        ")"
      ],
      "metadata": {
        "id": "yvpXxTcUdEQY"
      },
      "execution_count": null,
      "outputs": []
    },
    {
      "cell_type": "code",
      "source": [
        "tuner.results_summary(num_trials=3)"
      ],
      "metadata": {
        "id": "KNhDHZUdeWhA"
      },
      "execution_count": null,
      "outputs": []
    },
    {
      "cell_type": "code",
      "source": [
        "! rm -rf /content/drive/MyDrive/deep-learning/cnn/dens_layers_count"
      ],
      "metadata": {
        "id": "jpSvvqPChYq6"
      },
      "execution_count": null,
      "outputs": []
    },
    {
      "cell_type": "code",
      "source": [
        "!kill 1652"
      ],
      "metadata": {
        "id": "-JEuwlyAhYq7"
      },
      "execution_count": null,
      "outputs": []
    },
    {
      "cell_type": "code",
      "source": [
        "tuner.search_space_summary(extended=True)"
      ],
      "metadata": {
        "id": "-V7Ese_DhYq7"
      },
      "execution_count": null,
      "outputs": []
    },
    {
      "cell_type": "code",
      "source": [
        "%tensorboard --logdir /content/drive/MyDrive/deep-learning/cnn/dens_layers_count/callback"
      ],
      "metadata": {
        "id": "N-raORhdhYq7"
      },
      "execution_count": null,
      "outputs": []
    },
    {
      "cell_type": "code",
      "source": [
        "import tensorboard as tb"
      ],
      "metadata": {
        "id": "f6TcqXeshYq7"
      },
      "execution_count": null,
      "outputs": []
    },
    {
      "cell_type": "code",
      "source": [
        "import numpy as np\n",
        "\n",
        "import matplotlib as mpl\n",
        "import matplotlib.pyplot as plt\n",
        "\n",
        "function1 = plot_tensorflow_log\n",
        "\n",
        "log_file = \"/content/drive/MyDrive/deep-learning/cnn/dens_layers_count/callback/0000/execution0/train/events.out.tfevents.1649369360.979f1a549ef4.72.48.v2\"\n",
        "x, y = function1(log_file)\n",
        "plt.plot(x, y, label='1 dense layer - train')\n",
        "\n",
        "log_file = \"/content/drive/MyDrive/deep-learning/cnn/dens_layers_count/callback/0001/execution0/train/events.out.tfevents.1649369444.979f1a549ef4.72.51.v2\"\n",
        "x, y = function1(log_file)\n",
        "plt.plot(x, y, label='2 dense layer - train')\n",
        "\n",
        "log_file = \"/content/drive/MyDrive/deep-learning/cnn/dens_layers_count/callback/0002/execution0/train/events.out.tfevents.1649369853.979f1a549ef4.72.54.v2\"\n",
        "x, y = function1(log_file)\n",
        "plt.plot(x, y, label='3 dense layer - train')\n",
        "\n",
        "\n",
        "log_file = \"/content/drive/MyDrive/deep-learning/cnn/dens_layers_count/callback/0000/execution0/validation/events.out.tfevents.1649369364.979f1a549ef4.72.49.v2\"\n",
        "x, y = function1(log_file)\n",
        "plt.plot(x, y, '--', label='1 dense layer - validation')\n",
        "\n",
        "log_file = \"/content/drive/MyDrive/deep-learning/cnn/dens_layers_count/callback/0001/execution0/validation/events.out.tfevents.1649369447.979f1a549ef4.72.52.v2\"\n",
        "x, y = function1(log_file)\n",
        "plt.plot(x, y, '--', label='2 dense layer - validation')\n",
        "\n",
        "log_file = \"/content/drive/MyDrive/deep-learning/cnn/dens_layers_count/callback/0002/execution0/validation/events.out.tfevents.1649369856.979f1a549ef4.72.55.v2\"\n",
        "x, y = function1(log_file)\n",
        "plt.plot(x, y, '--', label='3 dense layer - validation')\n",
        "\n",
        "\n",
        "plt.xlabel(\"Steps\")\n",
        "plt.ylabel(\"Accuracy\")\n",
        "plt.title(\"Training Progress - SGD\")\n",
        "plt.legend(loc='down right', frameon=True)\n",
        "plt.show()"
      ],
      "metadata": {
        "id": "bPDeifz-hYq7"
      },
      "execution_count": null,
      "outputs": []
    },
    {
      "cell_type": "code",
      "source": [
        "import numpy as np\n",
        "\n",
        "import matplotlib as mpl\n",
        "import matplotlib.pyplot as plt\n",
        "\n",
        "function1 = plot_tensorflow_log_loss\n",
        "\n",
        "log_file = \"/content/drive/MyDrive/deep-learning/cnn/dens_layers_count/callback/0000/execution0/train/events.out.tfevents.1649369360.979f1a549ef4.72.48.v2\"\n",
        "x, y = function1(log_file)\n",
        "plt.plot(x, y, label='1 dense layer - train')\n",
        "\n",
        "log_file = \"/content/drive/MyDrive/deep-learning/cnn/dens_layers_count/callback/0001/execution0/train/events.out.tfevents.1649369444.979f1a549ef4.72.51.v2\"\n",
        "x, y = function1(log_file)\n",
        "plt.plot(x, y, label='2 dense layer - train')\n",
        "\n",
        "log_file = \"/content/drive/MyDrive/deep-learning/cnn/dens_layers_count/callback/0002/execution0/train/events.out.tfevents.1649369853.979f1a549ef4.72.54.v2\"\n",
        "x, y = function1(log_file)\n",
        "plt.plot(x, y, label='3 dense layer - train')\n",
        "\n",
        "\n",
        "log_file = \"/content/drive/MyDrive/deep-learning/cnn/dens_layers_count/callback/0000/execution0/validation/events.out.tfevents.1649369364.979f1a549ef4.72.49.v2\"\n",
        "x, y = function1(log_file)\n",
        "plt.plot(x, y, '--', label='1 dense layer - validation')\n",
        "\n",
        "log_file = \"/content/drive/MyDrive/deep-learning/cnn/dens_layers_count/callback/0001/execution0/validation/events.out.tfevents.1649369447.979f1a549ef4.72.52.v2\"\n",
        "x, y = function1(log_file)\n",
        "plt.plot(x, y, '--', label='2 dense layer - validation')\n",
        "\n",
        "log_file = \"/content/drive/MyDrive/deep-learning/cnn/dens_layers_count/callback/0002/execution0/validation/events.out.tfevents.1649369856.979f1a549ef4.72.55.v2\"\n",
        "x, y = function1(log_file)\n",
        "plt.plot(x, y, '--', label='3 dense layer - validation')\n",
        "\n",
        "\n",
        "plt.xlabel(\"Steps\")\n",
        "plt.ylabel(\"Loss\")\n",
        "plt.title(\"Training Progress - SGD\")\n",
        "plt.legend(loc='down right', frameon=True)\n",
        "plt.show()"
      ],
      "metadata": {
        "id": "UsuEoZDdCnb0"
      },
      "execution_count": null,
      "outputs": []
    },
    {
      "cell_type": "code",
      "source": [
        "import numpy as np\n",
        "\n",
        "import matplotlib as mpl\n",
        "import matplotlib.pyplot as plt\n",
        "\n",
        "function1 = plot_tensorflow_log_precision\n",
        "\n",
        "log_file = \"/content/drive/MyDrive/deep-learning/cnn/dens_layers_count/callback/0000/execution0/train/events.out.tfevents.1649369360.979f1a549ef4.72.48.v2\"\n",
        "x, y = function1(log_file)\n",
        "plt.plot(x, y, label='1 dense layer - train')\n",
        "\n",
        "log_file = \"/content/drive/MyDrive/deep-learning/cnn/dens_layers_count/callback/0001/execution0/train/events.out.tfevents.1649369444.979f1a549ef4.72.51.v2\"\n",
        "x, y = function1(log_file)\n",
        "plt.plot(x, y, label='2 dense layer - train')\n",
        "\n",
        "log_file = \"/content/drive/MyDrive/deep-learning/cnn/dens_layers_count/callback/0002/execution0/train/events.out.tfevents.1649369853.979f1a549ef4.72.54.v2\"\n",
        "x, y = function1(log_file)\n",
        "plt.plot(x, y, label='3 dense layer - train')\n",
        "\n",
        "\n",
        "log_file = \"/content/drive/MyDrive/deep-learning/cnn/dens_layers_count/callback/0000/execution0/validation/events.out.tfevents.1649369364.979f1a549ef4.72.49.v2\"\n",
        "x, y = function1(log_file)\n",
        "plt.plot(x, y, '--', label='1 dense layer - validation')\n",
        "\n",
        "log_file = \"/content/drive/MyDrive/deep-learning/cnn/dens_layers_count/callback/0001/execution0/validation/events.out.tfevents.1649369447.979f1a549ef4.72.52.v2\"\n",
        "x, y = function1(log_file)\n",
        "plt.plot(x, y, '--', label='2 dense layer - validation')\n",
        "\n",
        "log_file = \"/content/drive/MyDrive/deep-learning/cnn/dens_layers_count/callback/0002/execution0/validation/events.out.tfevents.1649369856.979f1a549ef4.72.55.v2\"\n",
        "x, y = function1(log_file)\n",
        "plt.plot(x, y, '--', label='3 dense layer - validation')\n",
        "\n",
        "\n",
        "plt.xlabel(\"Steps\")\n",
        "plt.ylabel(\"Precision\")\n",
        "plt.title(\"Training Progress - SGD\")\n",
        "plt.legend(loc='down right', frameon=True)\n",
        "plt.show()"
      ],
      "metadata": {
        "id": "43MvGLqrCq6D"
      },
      "execution_count": null,
      "outputs": []
    },
    {
      "cell_type": "code",
      "source": [
        "import numpy as np\n",
        "\n",
        "import matplotlib as mpl\n",
        "import matplotlib.pyplot as plt\n",
        "\n",
        "function1 = plot_tensorflow_log_recall\n",
        "\n",
        "log_file = \"/content/drive/MyDrive/deep-learning/cnn/dens_layers_count/callback/0000/execution0/train/events.out.tfevents.1649369360.979f1a549ef4.72.48.v2\"\n",
        "x, y = function1(log_file)\n",
        "plt.plot(x, y, label='1 dense layer - train')\n",
        "\n",
        "log_file = \"/content/drive/MyDrive/deep-learning/cnn/dens_layers_count/callback/0001/execution0/train/events.out.tfevents.1649369444.979f1a549ef4.72.51.v2\"\n",
        "x, y = function1(log_file)\n",
        "plt.plot(x, y, label='2 dense layer - train')\n",
        "\n",
        "log_file = \"/content/drive/MyDrive/deep-learning/cnn/dens_layers_count/callback/0002/execution0/train/events.out.tfevents.1649369853.979f1a549ef4.72.54.v2\"\n",
        "x, y = function1(log_file)\n",
        "plt.plot(x, y, label='3 dense layer - train')\n",
        "\n",
        "\n",
        "log_file = \"/content/drive/MyDrive/deep-learning/cnn/dens_layers_count/callback/0000/execution0/validation/events.out.tfevents.1649369364.979f1a549ef4.72.49.v2\"\n",
        "x, y = function1(log_file)\n",
        "plt.plot(x, y, '--', label='1 dense layer - validation')\n",
        "\n",
        "log_file = \"/content/drive/MyDrive/deep-learning/cnn/dens_layers_count/callback/0001/execution0/validation/events.out.tfevents.1649369447.979f1a549ef4.72.52.v2\"\n",
        "x, y = function1(log_file)\n",
        "plt.plot(x, y, '--', label='2 dense layer - validation')\n",
        "\n",
        "log_file = \"/content/drive/MyDrive/deep-learning/cnn/dens_layers_count/callback/0002/execution0/validation/events.out.tfevents.1649369856.979f1a549ef4.72.55.v2\"\n",
        "x, y = function1(log_file)\n",
        "plt.plot(x, y, '--', label='3 dense layer - validation')\n",
        "\n",
        "\n",
        "plt.xlabel(\"Steps\")\n",
        "plt.ylabel(\"Recall\")\n",
        "plt.title(\"Training Progress - SGD\")\n",
        "plt.legend(loc='down right', frameon=True)\n",
        "plt.show()"
      ],
      "metadata": {
        "id": "JljWCg--Hksl"
      },
      "execution_count": null,
      "outputs": []
    },
    {
      "cell_type": "markdown",
      "source": [
        "## Kernel Size Tunning"
      ],
      "metadata": {
        "id": "m9-dOeNEgS_w"
      }
    },
    {
      "cell_type": "code",
      "source": [
        "from tensorflow.keras.models import Sequential\n",
        "from tensorflow.keras.layers import Dense, Dropout, Flatten, Conv2D, MaxPooling2D, ZeroPadding2D\n",
        "\n",
        "def build_model(hp):\n",
        "  kernel_size = hp.Int(\"kernel_size\", min_value=2, max_value=4, step=1)\n",
        "  \n",
        "  model = Sequential()\n",
        "\n",
        "  model.add(Conv2D(16, (kernel_size, kernel_size), activation='relu', kernel_initializer='he_uniform', padding='same'))\n",
        "  model.add(MaxPooling2D((2, 2)))\n",
        "  model.add(Conv2D(32, (kernel_size, kernel_size), activation='relu', kernel_initializer='he_uniform', padding='same'))\n",
        "  model.add(MaxPooling2D((2, 2)))\n",
        "  model.add(Conv2D(64, (kernel_size, kernel_size), activation='relu', kernel_initializer='he_uniform', padding='same'))\n",
        "  model.add(MaxPooling2D((2, 2)))\n",
        "\n",
        "  model.add(Flatten())\n",
        "  model.add(Dense(16, activation='relu', kernel_initializer='he_uniform'))\n",
        "  model.add(Dense(16, activation='relu', kernel_initializer='he_uniform'))\n",
        "  model.add(Dense(16, activation='relu', kernel_initializer='he_uniform'))\n",
        "\n",
        "  model.add(Dropout(0.3))\n",
        "  model.add(Dense(10, activation='softmax'))\n",
        "\n",
        "  model.compile(optimizer=\"SGD\", loss=\"categorical_crossentropy\", metrics=[\"accuracy\", \"Precision\", \"Recall\"])\n",
        "\n",
        "  return model"
      ],
      "metadata": {
        "id": "oucAtR0BCS6S"
      },
      "execution_count": null,
      "outputs": []
    },
    {
      "cell_type": "code",
      "source": [
        "import keras_tuner as kt\n",
        "\n",
        "tuner = kt.RandomSearch(\n",
        "    hypermodel=build_model,\n",
        "    objective=\"val_accuracy\",\n",
        "    max_trials=1000,\n",
        "    executions_per_trial=1,\n",
        "    overwrite=True,\n",
        "    directory=\"/content/drive/MyDrive/deep-learning/cnn\",\n",
        "    project_name=\"kernel_size\"\n",
        ")"
      ],
      "metadata": {
        "id": "ccjh8ryXfH4x"
      },
      "execution_count": null,
      "outputs": []
    },
    {
      "cell_type": "code",
      "source": [
        "experiment_train_size = 10000\n",
        "X = train_X[:experiment_train_size]\n",
        "y = train_y[:experiment_train_size]"
      ],
      "metadata": {
        "id": "avqJYQBkfIVn"
      },
      "execution_count": null,
      "outputs": []
    },
    {
      "cell_type": "code",
      "source": [
        "tuner.search(X, \n",
        "             y, \n",
        "             epochs=20, \n",
        "             validation_split=0.2, \n",
        "             callbacks=[tf.keras.callbacks.TensorBoard(\"/content/drive/MyDrive/deep-learning/cnn/kernel_size/callback\")],\n",
        ")"
      ],
      "metadata": {
        "id": "barmwYjLfIs_"
      },
      "execution_count": null,
      "outputs": []
    },
    {
      "cell_type": "code",
      "source": [
        "tuner.results_summary(num_trials=10)"
      ],
      "metadata": {
        "id": "DzAkiZZEfOdJ"
      },
      "execution_count": null,
      "outputs": []
    },
    {
      "cell_type": "code",
      "source": [
        "! rm -rf /content/drive/MyDrive/deep-learning/cnn/kernel_size"
      ],
      "metadata": {
        "id": "yvxrAAwaoTce"
      },
      "execution_count": null,
      "outputs": []
    },
    {
      "cell_type": "code",
      "source": [
        "! kill 5631"
      ],
      "metadata": {
        "id": "eOOctpmsoTcg"
      },
      "execution_count": null,
      "outputs": []
    },
    {
      "cell_type": "code",
      "source": [
        "%tensorboard --logdir /content/drive/MyDrive/deep-learning/cnn/kernel_size/callback"
      ],
      "metadata": {
        "id": "OJpWbDz4oTcg"
      },
      "execution_count": null,
      "outputs": []
    },
    {
      "cell_type": "code",
      "source": [
        "import tensorboard as tb"
      ],
      "metadata": {
        "id": "ndLTSPqZoTcg"
      },
      "execution_count": null,
      "outputs": []
    },
    {
      "cell_type": "code",
      "source": [
        "import numpy as np\n",
        "\n",
        "import matplotlib as mpl\n",
        "import matplotlib.pyplot as plt\n",
        "\n",
        "function1 = plot_tensorflow_log\n",
        "\n",
        "log_file = \"/content/drive/MyDrive/deep-learning/cnn/kernel_size/callback/0000/execution0/train/events.out.tfevents.1649370340.979f1a549ef4.72.57.v2\"\n",
        "x, y = function1(log_file)\n",
        "plt.plot(x, y, label='2x2 kernel - train')\n",
        "\n",
        "log_file = \"/content/drive/MyDrive/deep-learning/cnn/kernel_size/callback/0002/execution0/train/events.out.tfevents.1649370446.979f1a549ef4.72.63.v2\"\n",
        "x, y = function1(log_file)\n",
        "plt.plot(x, y, label='3x3 kernel - train')\n",
        "\n",
        "log_file = \"/content/drive/MyDrive/deep-learning/cnn/kernel_size/callback/0001/execution0/train/events.out.tfevents.1649370392.979f1a549ef4.72.60.v2\"\n",
        "x, y = function1(log_file)\n",
        "plt.plot(x, y, label='4x4 kernel - train')\n",
        "\n",
        "\n",
        "log_file = \"/content/drive/MyDrive/deep-learning/cnn/kernel_size/callback/0000/execution0/validation/events.out.tfevents.1649370343.979f1a549ef4.72.58.v2\"\n",
        "x, y = function1(log_file)\n",
        "plt.plot(x, y, '--', label='2x2 kernel - validation')\n",
        "\n",
        "log_file = \"/content/drive/MyDrive/deep-learning/cnn/kernel_size/callback/0002/execution0/validation/events.out.tfevents.1649370449.979f1a549ef4.72.64.v2\"\n",
        "x, y = function1(log_file)\n",
        "plt.plot(x, y, '--', label='3x3 kernel - validation')\n",
        "\n",
        "log_file = \"/content/drive/MyDrive/deep-learning/cnn/kernel_size/callback/0001/execution0/validation/events.out.tfevents.1649370395.979f1a549ef4.72.61.v2\"\n",
        "x, y = function1(log_file)\n",
        "plt.plot(x, y, '--', label='4x4 kernel - validation')\n",
        "\n",
        "\n",
        "plt.xlabel(\"Steps\")\n",
        "plt.ylabel(\"Accuracy\")\n",
        "plt.title(\"Training Progress - SGD\")\n",
        "plt.legend(loc='down right', frameon=True)\n",
        "plt.show()"
      ],
      "metadata": {
        "id": "UBvdBnE5oTcg"
      },
      "execution_count": null,
      "outputs": []
    },
    {
      "cell_type": "code",
      "source": [
        "import numpy as np\n",
        "\n",
        "import matplotlib as mpl\n",
        "import matplotlib.pyplot as plt\n",
        "\n",
        "function1 = plot_tensorflow_log_loss\n",
        "\n",
        "log_file = \"/content/drive/MyDrive/deep-learning/cnn/kernel_size/callback/0000/execution0/train/events.out.tfevents.1649370340.979f1a549ef4.72.57.v2\"\n",
        "x, y = function1(log_file)\n",
        "plt.plot(x, y, label='2x2 kernel - train')\n",
        "\n",
        "log_file = \"/content/drive/MyDrive/deep-learning/cnn/kernel_size/callback/0002/execution0/train/events.out.tfevents.1649370446.979f1a549ef4.72.63.v2\"\n",
        "x, y = function1(log_file)\n",
        "plt.plot(x, y, label='3x3 kernel - train')\n",
        "\n",
        "log_file = \"/content/drive/MyDrive/deep-learning/cnn/kernel_size/callback/0001/execution0/train/events.out.tfevents.1649370392.979f1a549ef4.72.60.v2\"\n",
        "x, y = function1(log_file)\n",
        "plt.plot(x, y, label='4x4 kernel - train')\n",
        "\n",
        "\n",
        "log_file = \"/content/drive/MyDrive/deep-learning/cnn/kernel_size/callback/0000/execution0/validation/events.out.tfevents.1649370343.979f1a549ef4.72.58.v2\"\n",
        "x, y = function1(log_file)\n",
        "plt.plot(x, y, '--', label='2x2 kernel - validation')\n",
        "\n",
        "log_file = \"/content/drive/MyDrive/deep-learning/cnn/kernel_size/callback/0002/execution0/validation/events.out.tfevents.1649370449.979f1a549ef4.72.64.v2\"\n",
        "x, y = function1(log_file)\n",
        "plt.plot(x, y, '--', label='3x3 kernel - validation')\n",
        "\n",
        "log_file = \"/content/drive/MyDrive/deep-learning/cnn/kernel_size/callback/0001/execution0/validation/events.out.tfevents.1649370395.979f1a549ef4.72.61.v2\"\n",
        "x, y = function1(log_file)\n",
        "plt.plot(x, y, '--', label='4x4 kernel - validation')\n",
        "\n",
        "\n",
        "plt.xlabel(\"Steps\")\n",
        "plt.ylabel(\"Loss\")\n",
        "plt.title(\"Training Progress - SGD\")\n",
        "plt.legend(loc='down right', frameon=True)\n",
        "plt.show()"
      ],
      "metadata": {
        "id": "gjzC2_eIJ9EF"
      },
      "execution_count": null,
      "outputs": []
    },
    {
      "cell_type": "code",
      "source": [
        "import numpy as np\n",
        "\n",
        "import matplotlib as mpl\n",
        "import matplotlib.pyplot as plt\n",
        "\n",
        "function1 = plot_tensorflow_log_precision\n",
        "\n",
        "log_file = \"/content/drive/MyDrive/deep-learning/cnn/kernel_size/callback/0000/execution0/train/events.out.tfevents.1649370340.979f1a549ef4.72.57.v2\"\n",
        "x, y = function1(log_file)\n",
        "plt.plot(x, y, label='2x2 kernel - train')\n",
        "\n",
        "log_file = \"/content/drive/MyDrive/deep-learning/cnn/kernel_size/callback/0002/execution0/train/events.out.tfevents.1649370446.979f1a549ef4.72.63.v2\"\n",
        "x, y = function1(log_file)\n",
        "plt.plot(x, y, label='3x3 kernel - train')\n",
        "\n",
        "log_file = \"/content/drive/MyDrive/deep-learning/cnn/kernel_size/callback/0001/execution0/train/events.out.tfevents.1649370392.979f1a549ef4.72.60.v2\"\n",
        "x, y = function1(log_file)\n",
        "plt.plot(x, y, label='4x4 kernel - train')\n",
        "\n",
        "\n",
        "log_file = \"/content/drive/MyDrive/deep-learning/cnn/kernel_size/callback/0000/execution0/validation/events.out.tfevents.1649370343.979f1a549ef4.72.58.v2\"\n",
        "x, y = function1(log_file)\n",
        "plt.plot(x, y, '--', label='2x2 kernel - validation')\n",
        "\n",
        "log_file = \"/content/drive/MyDrive/deep-learning/cnn/kernel_size/callback/0002/execution0/validation/events.out.tfevents.1649370449.979f1a549ef4.72.64.v2\"\n",
        "x, y = function1(log_file)\n",
        "plt.plot(x, y, '--', label='3x3 kernel - validation')\n",
        "\n",
        "log_file = \"/content/drive/MyDrive/deep-learning/cnn/kernel_size/callback/0001/execution0/validation/events.out.tfevents.1649370395.979f1a549ef4.72.61.v2\"\n",
        "x, y = function1(log_file)\n",
        "plt.plot(x, y, '--', label='4x4 kernel - validation')\n",
        "\n",
        "\n",
        "plt.xlabel(\"Steps\")\n",
        "plt.ylabel(\"Precision\")\n",
        "plt.title(\"Training Progress - SGD\")\n",
        "plt.legend(loc='down right', frameon=True)\n",
        "plt.show()"
      ],
      "metadata": {
        "id": "TsPmKsy8KAmC"
      },
      "execution_count": null,
      "outputs": []
    },
    {
      "cell_type": "code",
      "source": [
        "import numpy as np\n",
        "\n",
        "import matplotlib as mpl\n",
        "import matplotlib.pyplot as plt\n",
        "\n",
        "function1 = plot_tensorflow_log_recall\n",
        "\n",
        "log_file = \"/content/drive/MyDrive/deep-learning/cnn/kernel_size/callback/0000/execution0/train/events.out.tfevents.1649370340.979f1a549ef4.72.57.v2\"\n",
        "x, y = function1(log_file)\n",
        "plt.plot(x, y, label='2x2 kernel - train')\n",
        "\n",
        "log_file = \"/content/drive/MyDrive/deep-learning/cnn/kernel_size/callback/0002/execution0/train/events.out.tfevents.1649370446.979f1a549ef4.72.63.v2\"\n",
        "x, y = function1(log_file)\n",
        "plt.plot(x, y, label='3x3 kernel - train')\n",
        "\n",
        "log_file = \"/content/drive/MyDrive/deep-learning/cnn/kernel_size/callback/0001/execution0/train/events.out.tfevents.1649370392.979f1a549ef4.72.60.v2\"\n",
        "x, y = function1(log_file)\n",
        "plt.plot(x, y, label='4x4 kernel - train')\n",
        "\n",
        "\n",
        "log_file = \"/content/drive/MyDrive/deep-learning/cnn/kernel_size/callback/0000/execution0/validation/events.out.tfevents.1649370343.979f1a549ef4.72.58.v2\"\n",
        "x, y = function1(log_file)\n",
        "plt.plot(x, y, '--', label='2x2 kernel - validation')\n",
        "\n",
        "log_file = \"/content/drive/MyDrive/deep-learning/cnn/kernel_size/callback/0002/execution0/validation/events.out.tfevents.1649370449.979f1a549ef4.72.64.v2\"\n",
        "x, y = function1(log_file)\n",
        "plt.plot(x, y, '--', label='3x3 kernel - validation')\n",
        "\n",
        "log_file = \"/content/drive/MyDrive/deep-learning/cnn/kernel_size/callback/0001/execution0/validation/events.out.tfevents.1649370395.979f1a549ef4.72.61.v2\"\n",
        "x, y = function1(log_file)\n",
        "plt.plot(x, y, '--', label='4x4 kernel - validation')\n",
        "\n",
        "\n",
        "plt.xlabel(\"Steps\")\n",
        "plt.ylabel(\"Recall\")\n",
        "plt.title(\"Training Progress - SGD\")\n",
        "plt.legend(loc='down right', frameon=True)\n",
        "plt.show()"
      ],
      "metadata": {
        "id": "F-Ad9phRKEfD"
      },
      "execution_count": null,
      "outputs": []
    },
    {
      "cell_type": "code",
      "source": [
        "best_models[0].get_config()"
      ],
      "metadata": {
        "id": "7npxwXHQg4l1"
      },
      "execution_count": null,
      "outputs": []
    },
    {
      "cell_type": "code",
      "source": [
        "best_models[0].summary()"
      ],
      "metadata": {
        "id": "UHaDwGQxglrm"
      },
      "execution_count": null,
      "outputs": []
    },
    {
      "cell_type": "code",
      "source": [
        "import visualkeras\n",
        "from PIL import ImageFont\n",
        "\n",
        "font = ImageFont.truetype(\"/content/font/Roboto-Regular.ttf\", 12)\n",
        "visualkeras.layered_view(best_models[0], to_file='output.png', legend=True, font=font).show()"
      ],
      "metadata": {
        "id": "Eq-Sx6AlVX0i"
      },
      "execution_count": null,
      "outputs": []
    },
    {
      "cell_type": "code",
      "source": [
        "best_models[0].summary()"
      ],
      "metadata": {
        "id": "GFN53_4SVX0i"
      },
      "execution_count": null,
      "outputs": []
    },
    {
      "cell_type": "markdown",
      "source": [
        "# System Spec"
      ],
      "metadata": {
        "id": "u2IascYSukfZ"
      }
    },
    {
      "cell_type": "code",
      "source": [
        "! python --version"
      ],
      "metadata": {
        "id": "ypyGeIxXuEXF"
      },
      "execution_count": null,
      "outputs": []
    },
    {
      "cell_type": "code",
      "source": [
        "! python -c 'import keras; print(keras.__version__)'"
      ],
      "metadata": {
        "id": "akLIULQeuPlZ"
      },
      "execution_count": null,
      "outputs": []
    },
    {
      "cell_type": "code",
      "source": [
        "! python -c 'import tensorflow as tf; print(tf.__version__)'"
      ],
      "metadata": {
        "id": "AZVAvt_ruSCe"
      },
      "execution_count": null,
      "outputs": []
    },
    {
      "cell_type": "code",
      "source": [
        "! nvidia-smi -L"
      ],
      "metadata": {
        "id": "q-jbHk_TUwHS"
      },
      "execution_count": null,
      "outputs": []
    },
    {
      "cell_type": "code",
      "source": [
        "! cat /proc/cpuinfo"
      ],
      "metadata": {
        "id": "jitt0uDvu1xP"
      },
      "execution_count": null,
      "outputs": []
    },
    {
      "cell_type": "markdown",
      "source": [
        "# Installation"
      ],
      "metadata": {
        "id": "3T7EEPRSzzT3"
      }
    },
    {
      "cell_type": "markdown",
      "source": [
        "## Visual Keras"
      ],
      "metadata": {
        "id": "OqkTg4ONEURl"
      }
    },
    {
      "cell_type": "code",
      "source": [
        "! pip install git+https://github.com/paulgavrikov/visualkeras"
      ],
      "metadata": {
        "id": "BT1EEu37zvtb"
      },
      "execution_count": null,
      "outputs": []
    },
    {
      "cell_type": "markdown",
      "source": [
        "# Visualization"
      ],
      "metadata": {
        "id": "68lrHpUGThPk"
      }
    },
    {
      "cell_type": "code",
      "source": [
        "model = Sequential()\n",
        "kernel_size=3\n",
        "model.add(Conv2D(16, (kernel_size, kernel_size), activation='relu', kernel_initializer='he_uniform', padding='same'))\n",
        "model.add(MaxPooling2D((2, 2)))\n",
        "model.add(Conv2D(32, (kernel_size, kernel_size), activation='relu', kernel_initializer='he_uniform', padding='same'))\n",
        "model.add(MaxPooling2D((2, 2)))\n",
        "model.add(Conv2D(64, (kernel_size, kernel_size), activation='relu', kernel_initializer='he_uniform', padding='same'))\n",
        "model.add(MaxPooling2D((2, 2)))\n",
        "\n",
        "model.add(Flatten())\n",
        "model.add(Dense(16, activation='relu', kernel_initializer='he_uniform'))\n",
        "model.add(Dense(16, activation='relu', kernel_initializer='he_uniform'))\n",
        "\n",
        "model.add(Dropout(0.3))\n",
        "model.add(Dense(10, activation='softmax'))"
      ],
      "metadata": {
        "id": "AI7f4K3mR4K7"
      },
      "execution_count": null,
      "outputs": []
    },
    {
      "cell_type": "code",
      "source": [
        "model.build((None, 28, 28, 1))\n",
        "model.summary()"
      ],
      "metadata": {
        "id": "kiKgJOKdOsIQ"
      },
      "execution_count": null,
      "outputs": []
    },
    {
      "cell_type": "code",
      "source": [
        "from keras.utils.vis_utils import plot_model\n",
        "\n",
        "plot_model(model, to_file='model_plot.png', show_shapes=True, show_layer_names=True)"
      ],
      "metadata": {
        "id": "LvqanW0xQhEa"
      },
      "execution_count": null,
      "outputs": []
    },
    {
      "cell_type": "code",
      "source": [
        "import visualkeras\n",
        "from PIL import ImageFont\n",
        "\n",
        "font = ImageFont.truetype(\"/content/Roboto-Regular.ttf\", 12)\n",
        "\n",
        "visualkeras.layered_view(model, to_file='output.png', legend=True, font=font).show()"
      ],
      "metadata": {
        "id": "j33ujrcfSeIA"
      },
      "execution_count": null,
      "outputs": []
    }
  ]
}