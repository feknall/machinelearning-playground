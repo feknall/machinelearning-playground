{
  "nbformat": 4,
  "nbformat_minor": 0,
  "metadata": {
    "colab": {
      "name": "Gras-Winter2022-Segmentation-Data-Analysis.ipynb",
      "provenance": [],
      "mount_file_id": "1aiCStK6NYgWZ1__G8SxTqGL4GCn64nPO",
      "authorship_tag": "ABX9TyNfmpIWrOmIUi0AmBXB8EWT",
      "include_colab_link": true
    },
    "kernelspec": {
      "name": "python3",
      "display_name": "Python 3"
    },
    "language_info": {
      "name": "python"
    }
  },
  "cells": [
    {
      "cell_type": "markdown",
      "metadata": {
        "id": "view-in-github",
        "colab_type": "text"
      },
      "source": [
        "<a href=\"https://colab.research.google.com/github/feknall/machinelearning-playground/blob/main/Gras_Winter2022_Segmentation_Data_Analysis.ipynb\" target=\"_parent\"><img src=\"https://colab.research.google.com/assets/colab-badge.svg\" alt=\"Open In Colab\"/></a>"
      ]
    },
    {
      "cell_type": "code",
      "source": [
        "!pip install --upgrade matplotlib"
      ],
      "metadata": {
        "id": "5C2g8aGVmdcg"
      },
      "execution_count": null,
      "outputs": []
    },
    {
      "cell_type": "code",
      "source": [
        "import pandas as pd\n",
        "import numpy as np\n",
        "from matplotlib import pyplot as plt\n",
        "import os\n",
        "import matplotlib.patches as patches\n",
        "import re\n",
        "import random \n",
        "import pickle\n",
        "import cv2\n",
        "import seaborn as sns\n",
        "from PIL import Image\n",
        "import warnings\n",
        "warnings.filterwarnings(\"ignore\")\n",
        "from sklearn.model_selection import train_test_split\n"
      ],
      "metadata": {
        "id": "2mMj6dDX_1vo"
      },
      "execution_count": null,
      "outputs": []
    },
    {
      "cell_type": "code",
      "source": [
        "dataset_path = '/content/drive/MyDrive/ai-gras-2/dataset'"
      ],
      "metadata": {
        "id": "FIIab8hNACDN"
      },
      "execution_count": null,
      "outputs": []
    },
    {
      "cell_type": "code",
      "source": [
        "train_csv = pd.read_csv(f'{dataset_path}/train.csv')\n",
        "train_csv.head()"
      ],
      "metadata": {
        "id": "xwB43uT3ABf7"
      },
      "execution_count": null,
      "outputs": []
    },
    {
      "cell_type": "code",
      "source": [
        "train_csv.describe()"
      ],
      "metadata": {
        "id": "_GHgn35EfH5H"
      },
      "execution_count": null,
      "outputs": []
    },
    {
      "cell_type": "code",
      "source": [
        "train_csv.shape"
      ],
      "metadata": {
        "id": "B5T5A7NMAQmB"
      },
      "execution_count": null,
      "outputs": []
    },
    {
      "cell_type": "code",
      "source": [
        "image_id = []\n",
        "label = []\n",
        "train_folder_path = f'{dataset_path}/train_images'\n",
        "for i in os.listdir(train_folder_path):\n",
        "    for j in range(1,5):\n",
        "        image_id.append(i)\n",
        "        label.append(j)\n",
        "\n",
        "x = {'ImageId': image_id, 'ClassId': label}\n",
        "train_img = pd.DataFrame(x)\n",
        "train_img.head(10)"
      ],
      "metadata": {
        "id": "acI54zHlAStN"
      },
      "execution_count": null,
      "outputs": []
    },
    {
      "cell_type": "code",
      "source": [
        "limit = 10\n",
        "image_size = set()\n",
        "train_folder_path = f'{dataset_path}/train_images'\n",
        "for i in os.listdir(train_folder_path)[:limit]:\n",
        "  image_size.add(cv2.imread(train_folder_path + '/' + i).shape)\n",
        "unique_image = list(image_size)\n",
        "for x in unique_image:\n",
        "  print(x)"
      ],
      "metadata": {
        "id": "z7mwAfhRAnEr"
      },
      "execution_count": null,
      "outputs": []
    },
    {
      "cell_type": "code",
      "source": [
        "df = pd.merge(train_img, train_csv, how='outer', on=['ImageId','ClassId'])\n",
        "df.fillna('',inplace=True)\n",
        "df.head()"
      ],
      "metadata": {
        "id": "S3H3IXCOVb5R"
      },
      "execution_count": null,
      "outputs": []
    },
    {
      "cell_type": "code",
      "source": [
        "train = pd.pivot_table(df, values='EncodedPixels', index='ImageId', columns='ClassId', aggfunc=np.sum).astype(str)\n",
        "train = train.reset_index()\n",
        "train.columns = ['image_id','rle_1','rle_2','rle_3','rle_4'] \n",
        "train.head()"
      ],
      "metadata": {
        "id": "YHBvdJtlVr3x"
      },
      "execution_count": null,
      "outputs": []
    },
    {
      "cell_type": "code",
      "source": [
        "train.describe()"
      ],
      "metadata": {
        "id": "z2QHJc6We6YJ"
      },
      "execution_count": null,
      "outputs": []
    },
    {
      "cell_type": "code",
      "source": [
        "defect = []\n",
        "stratify = []\n",
        "for i in range(len(train)):\n",
        "  if (train['rle_1'][i] != '' or train['rle_2'][i] != '' or train['rle_3'][i] != '' or train['rle_4'][i] != ''):\n",
        "    defect.append(1)\n",
        "  else:\n",
        "    defect.append(0)\n",
        "  \n",
        "  if train['rle_1'][i] != '':\n",
        "    stratify.append(1)\n",
        "  elif train['rle_2'][i] != '':\n",
        "    stratify.append(2)\n",
        "  elif train['rle_3'][i] != '':\n",
        "    stratify.append(3)\n",
        "  elif train['rle_4'][i] != '':\n",
        "    stratify.append(4)\n",
        "  else:\n",
        "    stratify.append(0)\n",
        "train['defect'] = defect\n",
        "train['stratify'] = stratify"
      ],
      "metadata": {
        "id": "NapLA7xjWAwz"
      },
      "execution_count": null,
      "outputs": []
    },
    {
      "cell_type": "code",
      "source": [
        "train.head()"
      ],
      "metadata": {
        "id": "GWn7P_y0WMcE"
      },
      "execution_count": null,
      "outputs": []
    },
    {
      "cell_type": "code",
      "source": [
        "defect_1, defect_2, defect_3, defect_4 = [], [], [], []\n",
        "for i in range(len(train)):\n",
        "  if train['rle_1'][i] != '':\n",
        "    defect_1.append(1)\n",
        "  else:\n",
        "    defect_1.append(0)\n",
        "  if train['rle_2'][i] != '':\n",
        "    defect_2.append(1)\n",
        "  else:\n",
        "    defect_2.append(0)\n",
        "  if train['rle_3'][i] != '':\n",
        "    defect_3.append(1)\n",
        "  else:\n",
        "    defect_3.append(0)\n",
        "  if train['rle_4'][i] != '':\n",
        "    defect_4.append(1)\n",
        "  else:\n",
        "    defect_4.append(0)\n",
        "train['defect_1'] = defect_1\n",
        "train['defect_2'] = defect_2\n",
        "train['defect_3'] = defect_3\n",
        "train['defect_4'] = defect_4\n",
        "train['total_defects'] = train['defect_1'] + train['defect_2'] + train['defect_3'] + train['defect_4']\n",
        "train.head()"
      ],
      "metadata": {
        "id": "WawOApBBWQl9"
      },
      "execution_count": null,
      "outputs": []
    },
    {
      "cell_type": "code",
      "source": [
        "with open(f'{dataset_path}/data.pkl','wb') as f:\n",
        "     pickle.dump(train,f)"
      ],
      "metadata": {
        "id": "aj5UZdGBWecm"
      },
      "execution_count": null,
      "outputs": []
    },
    {
      "cell_type": "code",
      "source": [
        "test_image = [i for i in os.listdir(f'{dataset_path}/test_images')]"
      ],
      "metadata": {
        "id": "CkEamumhWuCy"
      },
      "execution_count": null,
      "outputs": []
    },
    {
      "cell_type": "code",
      "source": [
        "defect_1, defect_2, defect_3, defect_4, no_defect = 0, 0, 0, 0, 0\n",
        "\n",
        "\n",
        "def func(v, p):\n",
        "    a = p * sum(v) / 100\n",
        "    return \"{:.2f}%\\n({:.0f})\".format(p, a)\n",
        "\n",
        "\n",
        "for i in range(len(train)):\n",
        "    if train['rle_1'][i] != '':\n",
        "        defect_1 += 1\n",
        "    if train['rle_2'][i] != '':\n",
        "        defect_2 += 1\n",
        "    if train['rle_3'][i] != '':\n",
        "        defect_3 += 1\n",
        "    if train['rle_4'][i] != '':\n",
        "        defect_4 += 1\n",
        "    if train['defect'][i] == 0:\n",
        "        no_defect += 1\n",
        "labels = ['defect_1', 'defect_2', 'defect_3', 'defect_4', 'no_defect']\n",
        "sizes = [defect_1, defect_2, defect_3, defect_4, no_defect]\n",
        "explode = (0.2, 0.3, 0.1, 0.1, 0.1)\n",
        "fig, ax = plt.subplots(figsize=(32, 16))\n",
        "ax.pie(sizes, explode=explode, labels=labels, textprops={'fontsize': 28}, autopct=lambda p: func(sizes, p), shadow=True)\n",
        "# fig.suptitle('Defect Distribution', fontsize=25, fontweight='bold')\n",
        "# fig.set_facecolor(\"tan\")\n",
        "plt.show()\n"
      ],
      "metadata": {
        "id": "v0OjgKdKW3TS"
      },
      "execution_count": null,
      "outputs": []
    },
    {
      "cell_type": "code",
      "source": [
        "def patch1(bar, ax):\n",
        "    for p in bar.patches:\n",
        "        width = p.get_width()\n",
        "        height = p.get_height()\n",
        "        x, y = p.get_xy()\n",
        "        ax.annotate('{}'.format(height), (x + width / 2, y + height * 1.02), ha='center', fontsize=14)"
      ],
      "metadata": {
        "id": "F5zvqXN2XLi2"
      },
      "execution_count": null,
      "outputs": []
    },
    {
      "cell_type": "code",
      "source": [
        "counts_sorted = train['total_defects'].value_counts().sort_index()\n",
        "print(counts_sorted)\n",
        "print(type(counts_sorted))"
      ],
      "metadata": {
        "id": "SH7injV9j8RS"
      },
      "execution_count": null,
      "outputs": []
    },
    {
      "cell_type": "code",
      "source": [
        "fig, ax = plt.subplots(figsize=(12, 8))\n",
        "a = counts_sorted.plot(kind='bar')\n",
        "patch1(a, ax)\n",
        "ax.set_xlabel(\"Number of Defects\", fontsize=18, labelpad=15)\n",
        "ax.set_ylabel(\"Number of Images\", fontsize=18, labelpad=15)\n",
        "plt.xticks(rotation='horizontal', fontsize=14)\n",
        "plt.yticks(fontsize=14)\n",
        "# fig.suptitle('No. of Labels per Image', fontsize=25, fontweight='bold')\n",
        "# ax.set_facecolor(\"tan\")\n",
        "# fig.set_facecolor(\"tan\")\n",
        "plt.show()\n"
      ],
      "metadata": {
        "id": "lTXMRwvwXO3g"
      },
      "execution_count": null,
      "outputs": []
    },
    {
      "cell_type": "code",
      "execution_count": null,
      "metadata": {
        "id": "9bkoWAuZ6zal"
      },
      "outputs": [],
      "source": [
        "def rle_to_mask(rle):\n",
        "    # CONVERT RLE TO MASK \n",
        "    if (pd.isnull(rle)) | (rle == '') | (rle == '-1'):\n",
        "        return np.zeros((256, 1600), dtype=np.uint8)\n",
        "\n",
        "    height = 256\n",
        "    width = 1600\n",
        "    mask = np.zeros(width * height, dtype=np.uint8)\n",
        "\n",
        "    array = np.asarray([int(x) for x in rle.split()])\n",
        "    starts = array[0::2] - 1\n",
        "    lengths = array[1::2]\n",
        "    for index, start in enumerate(starts):\n",
        "        mask[int(start):int(start + lengths[index])] = 1\n",
        "\n",
        "    return mask.reshape((height, width), order='F')\n"
      ]
    },
    {
      "cell_type": "code",
      "source": [
        "def plot_mask(rle_defect, k):\n",
        "    x = rle_defect.columns[2]\n",
        "    train_folder_path = f'{dataset_path}/train_images/'\n",
        "    # Create figure and axes\n",
        "    fig, ax = plt.subplots(4, 2, figsize=(28, 18))\n",
        "    # fig.suptitle('Defect Type:' + str(k), fontsize=40, fontweight='bold')\n",
        "    for i in range(4):\n",
        "        image_id = rle_defect['image_id'][i]\n",
        "        rle = rle_defect[x][i]\n",
        "        im = Image.open(train_folder_path + str(image_id))\n",
        "        ax[i, 0].imshow(im)\n",
        "        ax[i, 0].set_title(image_id)\n",
        "        mask = rle_to_mask(rle)\n",
        "        ax[i, 1].imshow(mask)\n",
        "        ax[i, 1].set_title(\"Mask for \" + str(image_id))\n",
        "    # fig.set_facecolor(\"tan\")\n",
        "    plt.subplots_adjust(wspace=0.1, hspace=0.0)\n",
        "    plt.show()\n"
      ],
      "metadata": {
        "id": "v9yGnAbH8dvm"
      },
      "execution_count": null,
      "outputs": []
    },
    {
      "cell_type": "code",
      "source": [
        "rle_defect = train[train['defect_1'] == 1]\n",
        "rle_defect = rle_defect[['image_id', 'rle_1']]\n",
        "rle_defect = rle_defect.sample(n=4)\n",
        "rle_defect = rle_defect.reset_index()\n",
        "plot_mask(rle_defect, 1)"
      ],
      "metadata": {
        "id": "GwE-im08Xrxy"
      },
      "execution_count": null,
      "outputs": []
    },
    {
      "cell_type": "code",
      "source": [
        "rle_defect = train[train['defect_2'] == 1]\n",
        "rle_defect = rle_defect[['image_id', 'rle_2']]\n",
        "rle_defect = rle_defect.sample(n=4)\n",
        "rle_defect = rle_defect.reset_index()\n",
        "plot_mask(rle_defect, 2)\n"
      ],
      "metadata": {
        "id": "fQ73TSKRX31d"
      },
      "execution_count": null,
      "outputs": []
    },
    {
      "cell_type": "code",
      "source": [
        "rle_defect = train[train['defect_3'] == 1]\n",
        "rle_defect = rle_defect[['image_id', 'rle_3']]\n",
        "rle_defect = rle_defect.sample(n=4)\n",
        "rle_defect = rle_defect.reset_index()\n",
        "plot_mask(rle_defect, 3)"
      ],
      "metadata": {
        "id": "IxNqXmX1X7VS"
      },
      "execution_count": null,
      "outputs": []
    },
    {
      "cell_type": "code",
      "source": [
        "rle_defect = train[train['defect_4'] == 1]\n",
        "rle_defect = rle_defect[['image_id', 'rle_4']]\n",
        "rle_defect = rle_defect.sample(n=4)\n",
        "rle_defect = rle_defect.reset_index()\n",
        "plot_mask(rle_defect, 4)"
      ],
      "metadata": {
        "id": "q7YOjs5BX_fz"
      },
      "execution_count": null,
      "outputs": []
    },
    {
      "cell_type": "code",
      "source": [
        "def mask_areas(rle_defect):\n",
        "    area = []\n",
        "    for i in rle_defect:\n",
        "        mask = np.sum(rle_to_mask(i))\n",
        "        area.append(np.sum(rle_to_mask(i)))\n",
        "    return area"
      ],
      "metadata": {
        "id": "1x8Uu-32YHFE"
      },
      "execution_count": null,
      "outputs": []
    },
    {
      "cell_type": "code",
      "source": [
        "rle_defect = train[train['defect_1'] == 1]\n",
        "rle_defect = rle_defect['rle_1']\n",
        "rle_1_area = mask_areas(rle_defect)\n",
        "\n",
        "rle_defect = train[train['defect_2'] == 1]\n",
        "rle_defect = rle_defect['rle_2']\n",
        "rle_2_area = mask_areas(rle_defect)\n",
        "\n",
        "rle_defect = train[train['defect_3'] == 1]\n",
        "rle_defect = rle_defect['rle_3']\n",
        "rle_3_area = mask_areas(rle_defect)\n",
        "\n",
        "rle_defect = train[train['defect_4'] == 1]\n",
        "rle_defect = rle_defect['rle_4']\n",
        "rle_4_area = mask_areas(rle_defect)\n"
      ],
      "metadata": {
        "id": "IfH1we1YYKEa"
      },
      "execution_count": null,
      "outputs": []
    },
    {
      "cell_type": "code",
      "source": [
        "fig, ax = plt.subplots(2, 2, figsize=(15, 7))\n",
        "\n",
        "ax[0, 0].hist(x=rle_1_area)\n",
        "ax[0, 0].set_xlabel(\"Mask Area : Defect_1\", fontsize=13)\n",
        "ax[0, 0].set_ylabel(\"No. of Images\", fontsize=13)\n",
        "ax[0, 0].set_facecolor(\"tan\")\n",
        "\n",
        "ax[0, 1].hist(x=rle_2_area)\n",
        "ax[0, 1].set_xlabel(\"Mask Area : Defect_2\", fontsize=13)\n",
        "ax[0, 1].set_ylabel(\"No. of Images\", fontsize=13)\n",
        "ax[0, 1].set_facecolor(\"tan\")\n",
        "\n",
        "ax[1, 0].hist(x=rle_3_area)\n",
        "ax[1, 0].set_xlabel(\"Mask Area : Defect_3\", fontsize=13)\n",
        "ax[1, 0].set_ylabel(\"No. of Images\", fontsize=13)\n",
        "ax[1, 0].set_facecolor(\"tan\")\n",
        "\n",
        "ax[1, 1].hist(x=rle_4_area)\n",
        "ax[1, 1].set_xlabel(\"Mask Area : Defect_4\", fontsize=13)\n",
        "ax[1, 1].set_ylabel(\"No. of Images\", fontsize=13)\n",
        "ax[1, 1].set_facecolor(\"tan\")\n",
        "\n",
        "fig.set_facecolor(\"tan\")\n",
        "plt.show()"
      ],
      "metadata": {
        "id": "RRXAJTdVYNvh"
      },
      "execution_count": null,
      "outputs": []
    },
    {
      "cell_type": "code",
      "source": [
        "fig, ax = plt.subplots(figsize=(10, 7))\n",
        "\n",
        "sns.kdeplot(rle_1_area, label='Defect 1')\n",
        "sns.kdeplot(rle_2_area, label='Defect 2')\n",
        "sns.kdeplot(rle_3_area, label='Defect 3')\n",
        "sns.kdeplot(rle_4_area, label='Defect 4')\n",
        "plt.legend()\n",
        "# ax.set_facecolor(\"tan\")\n",
        "# fig.set_facecolor(\"tan\")\n",
        "plt.ylabel('Density', fontsize=13)\n",
        "plt.xlabel('Mask Area', fontsize=13)\n",
        "plt.show()\n"
      ],
      "metadata": {
        "id": "zZlSKvQ2YTWy"
      },
      "execution_count": null,
      "outputs": []
    },
    {
      "cell_type": "code",
      "source": [
        "rle_defect = train[train['defect_3'] == 1]\n",
        "rle = rle_defect['rle_3']\n",
        "rle_3_area = mask_areas(rle)\n",
        "rle_defect['rle_3_area'] = rle_3_area\n",
        "rle_defect = rle_defect[rle_defect['rle_3_area'] > 200000]\n",
        "rle_defect = rle_defect[['image_id', 'rle_3']]\n",
        "rle_defect = rle_defect.sample(n=4)\n",
        "rle_defect = rle_defect.reset_index()\n",
        "plot_mask(rle_defect, 3)"
      ],
      "metadata": {
        "id": "tXK9_ovEYWxT"
      },
      "execution_count": null,
      "outputs": []
    }
  ]
}