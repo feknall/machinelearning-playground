{
  "cells": [
    {
      "cell_type": "markdown",
      "metadata": {
        "id": "view-in-github",
        "colab_type": "text"
      },
      "source": [
        "<a href=\"https://colab.research.google.com/github/feknall/machinelearning-playground/blob/main/DeepLearning_Assignment_2_Shallow.ipynb\" target=\"_parent\"><img src=\"https://colab.research.google.com/assets/colab-badge.svg\" alt=\"Open In Colab\"/></a>"
      ]
    },
    {
      "cell_type": "markdown",
      "metadata": {
        "id": "9lawYx0ID-V3"
      },
      "source": [
        "### Installation"
      ]
    },
    {
      "cell_type": "code",
      "source": [
        "%load_ext tensorboard"
      ],
      "metadata": {
        "id": "XdaLy_Bnpl_0"
      },
      "execution_count": null,
      "outputs": []
    },
    {
      "cell_type": "code",
      "execution_count": null,
      "metadata": {
        "id": "oskhbAFgEFsm"
      },
      "outputs": [],
      "source": [
        "! apt install ttf-mscorefonts-installer"
      ]
    },
    {
      "cell_type": "code",
      "execution_count": null,
      "metadata": {
        "id": "nM4d-HdkEIWg"
      },
      "outputs": [],
      "source": [
        "! fc-cache -f"
      ]
    },
    {
      "cell_type": "code",
      "execution_count": null,
      "metadata": {
        "id": "xi85IbaVELGA"
      },
      "outputs": [],
      "source": [
        "! fc-match Arial"
      ]
    },
    {
      "cell_type": "markdown",
      "metadata": {
        "id": "UpqIoTADrl5X"
      },
      "source": [
        "### Loading MNIST"
      ]
    },
    {
      "cell_type": "code",
      "execution_count": null,
      "metadata": {
        "id": "eNAE7b27qu9j"
      },
      "outputs": [],
      "source": [
        "import tensorflow as tf\n",
        "from tensorflow.keras.datasets import mnist\n",
        "from sklearn.model_selection import train_test_split\n",
        "from sklearn.preprocessing import StandardScaler\n",
        "\n",
        "(x_train_both, y_train_both), (x_test, y_test) = mnist.load_data()\n",
        "\n",
        "print(x_train_both[x_train_both > 0])\n",
        "\n",
        "x_train_both = x_train_both.reshape((x_train_both.shape[0], -1)).astype('float32') / 255\n",
        "x_test = x_test.reshape((x_test.shape[0], -1)).astype('float32') / 255\n",
        "\n",
        "scaler = StandardScaler()\n",
        "x_train_both = scaler.fit_transform(x_train_both)\n",
        "x_test = scaler.transform(x_test)\n",
        "\n",
        "print(x_train_both[x_train_both > 0])\n",
        "\n",
        "x_train, x_validation, y_train, y_validation = train_test_split(x_train_both, y_train_both, test_size=0.2, shuffle=True)"
      ]
    },
    {
      "cell_type": "code",
      "execution_count": null,
      "metadata": {
        "id": "9-7Uo5pf7LO2"
      },
      "outputs": [],
      "source": [
        "from sklearn.preprocessing import OneHotEncoder\n",
        "\n",
        "one_hot_encoder = OneHotEncoder()\n",
        "one_hot_encoder.fit(y_train.reshape(-1, 1))\n",
        "y_train_one_hot_encoded = one_hot_encoder.transform(y_train.reshape(-1, 1)).toarray()\n",
        "y_validation_hot_encoded = one_hot_encoder.transform(y_validation.reshape(-1, 1)).toarray()"
      ]
    },
    {
      "cell_type": "code",
      "execution_count": null,
      "metadata": {
        "id": "RlR-6-fOws43"
      },
      "outputs": [],
      "source": [
        "print(f\"y_train: \\n{y_train.reshape(-1, 1)[:5]}\")\n",
        "print(f\"y_train_one_hot_encoded: \\n{y_train_one_hot_encoded[:5]}\")\n",
        "print(f\"y_validation_hot_encoded: \\n{y_validation_hot_encoded[:3]}\")"
      ]
    },
    {
      "cell_type": "code",
      "execution_count": null,
      "metadata": {
        "id": "klEHrA7xv-HI"
      },
      "outputs": [],
      "source": [
        "print(x_train[0][:100])"
      ]
    },
    {
      "cell_type": "code",
      "source": [
        "from google.colab import drive\n",
        "drive.mount('/content/drive')"
      ],
      "metadata": {
        "id": "Cipd6URlcXbg"
      },
      "execution_count": null,
      "outputs": []
    },
    {
      "cell_type": "markdown",
      "metadata": {
        "id": "rBo1ySemXb8K"
      },
      "source": [
        "### SGD Classifier"
      ]
    },
    {
      "cell_type": "code",
      "source": [
        "! pip install tensorflow --upgrade"
      ],
      "metadata": {
        "id": "30W9CHDAlbwJ"
      },
      "execution_count": null,
      "outputs": []
    },
    {
      "cell_type": "code",
      "execution_count": null,
      "metadata": {
        "id": "Ci1V12SED_AI"
      },
      "outputs": [],
      "source": [
        "! pip install keras-tuner --upgrade"
      ]
    },
    {
      "cell_type": "code",
      "source": [
        "import tensorflow as tf\n",
        "from tensorflow.keras.datasets import mnist\n",
        "from sklearn.model_selection import train_test_split\n",
        "from sklearn.preprocessing import StandardScaler\n",
        "\n",
        "(x_train, y_train), (x_test, y_test) = mnist.load_data()\n",
        "\n",
        "x_train = x_train.reshape((x_train.shape[0], -1)).astype('float32') / 255\n",
        "x_test = x_test.reshape((x_test.shape[0], -1)).astype('float32') / 255\n",
        "\n",
        "scaler = StandardScaler()\n",
        "scaler.fit(x_train)\n",
        "x_train = scaler.transform(x_train)\n",
        "x_test = scaler.transform(x_test)"
      ],
      "metadata": {
        "id": "hK1KEzVGjQzy"
      },
      "execution_count": null,
      "outputs": []
    },
    {
      "cell_type": "code",
      "source": [
        "from sklearn.preprocessing import OneHotEncoder\n",
        "\n",
        "one_hot_encoder = OneHotEncoder()\n",
        "one_hot_encoder.fit(y_train.reshape(-1, 1))\n",
        "y_train_one_hot_encoded = one_hot_encoder.transform(y_train.reshape(-1, 1)).toarray()"
      ],
      "metadata": {
        "id": "LlN_46y7jlKy"
      },
      "execution_count": null,
      "outputs": []
    },
    {
      "cell_type": "markdown",
      "metadata": {
        "id": "IXEqNMh8AkOP"
      },
      "source": [
        "### Keras Adam"
      ]
    },
    {
      "cell_type": "code",
      "source": [
        "from tensorboard.backend.event_processing.event_accumulator import EventAccumulator\n",
        "import tensorflow as tf\n",
        "\n",
        "def plot_tensorflow_log(path):\n",
        "\n",
        "    # Loading too much data is slow...\n",
        "    tf_size_guidance = {\n",
        "        # 'compressedHistograms': 100,\n",
        "        # 'images': 0,\n",
        "        # 'scalars': 10000,\n",
        "        # 'histograms': 1000\n",
        "        'tensors': 200\n",
        "    }\n",
        "\n",
        "    event_acc = EventAccumulator(path, tf_size_guidance)\n",
        "    event_acc.Reload()\n",
        "\n",
        "    print(event_acc.Tags())\n",
        "\n",
        "    training_accuracies = event_acc.Tensors('epoch_accuracy')\n",
        "    tensor_np = tf.make_ndarray(training_accuracies[-1].tensor_proto)\n",
        "\n",
        "    print(tensor_np)\n",
        "\n",
        "    y = list()\n",
        "    x = list()\n",
        "    for i in range(len(training_accuracies)):\n",
        "        y.append(tf.make_ndarray(training_accuracies[i].tensor_proto))\n",
        "        x.append(i)\n",
        "\n",
        "    return x, y"
      ],
      "metadata": {
        "id": "WjAsZl1tqSju"
      },
      "execution_count": null,
      "outputs": []
    },
    {
      "cell_type": "code",
      "source": [
        "experiment_train_size = 60000\n",
        "X = x_train[:experiment_train_size]\n",
        "y = y_train_one_hot_encoded[:experiment_train_size]"
      ],
      "metadata": {
        "id": "k2luEiczs5VA"
      },
      "execution_count": null,
      "outputs": []
    },
    {
      "cell_type": "markdown",
      "source": [
        "## Training"
      ],
      "metadata": {
        "id": "jXXFq8WdwSxt"
      }
    },
    {
      "cell_type": "code",
      "execution_count": null,
      "metadata": {
        "id": "6TsEhykuB_-L"
      },
      "outputs": [],
      "source": [
        "from tensorflow import keras\n",
        "from tensorflow.keras.layers import Dense\n",
        "from tensorflow.keras import initializers\n",
        "\n",
        "def build_model(hp):\n",
        "  num_units = hp.Choice(\"num_units\", [1, 2, 4, 8, 16, 32])\n",
        "  \n",
        "  model = keras.Sequential()\n",
        "  model.add(Dense(num_units, input_shape=(784,), activation='softmax'))\n",
        "  model.add(Dense(10, input_shape=(784,), activation='softmax'))\n",
        "  # model.add(Dense(10, input_shape=(784,), activation='softmax'))\n",
        "  \n",
        "\n",
        "  opt = keras.optimizers.SGD(learning_rate=0.001)\n",
        "  model.compile(loss='categorical_crossentropy', optimizer=opt, metrics=[\"accuracy\"])\n",
        "  return model"
      ]
    },
    {
      "cell_type": "code",
      "execution_count": null,
      "metadata": {
        "id": "n--DZdoYDaGQ"
      },
      "outputs": [],
      "source": [
        "import keras_tuner as kt\n",
        "\n",
        "tuner = kt.RandomSearch(\n",
        "    hypermodel=build_model,\n",
        "    objective=\"val_accuracy\",\n",
        "    max_trials=1000,\n",
        "    executions_per_trial=1,\n",
        "    overwrite=True,\n",
        "    directory=\"/content/drive/MyDrive/deep-learning/shallow\",\n",
        "    project_name=\"num_units\"\n",
        ")\n",
        "\n",
        "tuner.search(X, \n",
        "             y, \n",
        "             epochs=20, \n",
        "             validation_split=0.2, \n",
        "             callbacks=[tf.keras.callbacks.TensorBoard(\"/content/drive/MyDrive/deep-learning/shallow/num_units/callback\")],\n",
        "          \n",
        ")"
      ]
    },
    {
      "cell_type": "code",
      "source": [
        "! rm -rf /content/drive/MyDrive/deep-learning/shallow"
      ],
      "metadata": {
        "id": "Apt_VojD7EOM"
      },
      "execution_count": null,
      "outputs": []
    },
    {
      "cell_type": "code",
      "source": [
        "%tensorboard --logdir /content/drive/MyDrive/deep-learning/shallow/num_units/callback"
      ],
      "metadata": {
        "id": "cBb5gTrM7Flg"
      },
      "execution_count": null,
      "outputs": []
    },
    {
      "cell_type": "code",
      "source": [
        "import numpy as np\n",
        "\n",
        "import matplotlib as mpl\n",
        "import matplotlib.pyplot as plt\n",
        "\n",
        "\n",
        "log_file = \"/content/drive/MyDrive/deep-learning/shallow/num_units/callback/0004/execution0/train/events.out.tfevents.1649282289.c90e60870e35.73.18.v2\"\n",
        "x, y = plot_tensorflow_log(log_file)\n",
        "plt.plot(x, y, label='1 units - train')\n",
        "\n",
        "log_file = \"/content/drive/MyDrive/deep-learning/shallow/num_units/callback/0002/execution0/train/events.out.tfevents.1649282035.c90e60870e35.73.12.v2\"\n",
        "x, y = plot_tensorflow_log(log_file)\n",
        "plt.plot(x, y, label='2 units - train')\n",
        "\n",
        "log_file = \"/content/drive/MyDrive/deep-learning/shallow/num_units/callback/0000/execution0/train/events.out.tfevents.1649281750.c90e60870e35.73.6.v2\"\n",
        "x, y = plot_tensorflow_log(log_file)\n",
        "plt.plot(x, y, label='4 units - train')\n",
        "\n",
        "log_file = \"/content/drive/MyDrive/deep-learning/shallow/num_units/callback/0001/execution0/train/events.out.tfevents.1649281893.c90e60870e35.73.9.v2\"\n",
        "x, y = plot_tensorflow_log(log_file)\n",
        "plt.plot(x, y, label='16 units - train')\n",
        "\n",
        "\n",
        "\n",
        "log_file = \"/content/drive/MyDrive/deep-learning/shallow/num_units/callback/0004/execution0/validation/events.out.tfevents.1649282294.c90e60870e35.73.19.v2\"\n",
        "x, y = plot_tensorflow_log(log_file)\n",
        "plt.plot(x, y, '--', label='1 units - validation')\n",
        "\n",
        "log_file = \"/content/drive/MyDrive/deep-learning/shallow/num_units/callback/0002/execution0/validation/events.out.tfevents.1649282040.c90e60870e35.73.13.v2\"\n",
        "x, y = plot_tensorflow_log(log_file)\n",
        "plt.plot(x, y, '--', label='2 units - validation')\n",
        "\n",
        "log_file = \"/content/drive/MyDrive/deep-learning/shallow/num_units/callback/0000/execution0/validation/events.out.tfevents.1649281755.c90e60870e35.73.7.v2\"\n",
        "x, y = plot_tensorflow_log(log_file)\n",
        "plt.plot(x, y, '--', label='4 units - validation')\n",
        "\n",
        "log_file = \"/content/drive/MyDrive/deep-learning/shallow/num_units/callback/0003/execution0/train/events.out.tfevents.1649282147.c90e60870e35.73.15.v2\"\n",
        "x, y = plot_tensorflow_log(log_file)\n",
        "plt.plot(x, y, label='8 units - train')\n",
        "\n",
        "log_file = \"/content/drive/MyDrive/deep-learning/shallow/num_units/callback/0001/execution0/validation/events.out.tfevents.1649281898.c90e60870e35.73.10.v2\"\n",
        "x, y = plot_tensorflow_log(log_file)\n",
        "plt.plot(x, y, '--', label='16 units - validation')\n",
        "\n",
        "\n",
        "plt.xlabel(\"Steps\")\n",
        "plt.ylabel(\"Accuracy\")\n",
        "plt.title(\"Training Progress - SGD\")\n",
        "plt.legend(loc='down right', frameon=True)\n",
        "plt.show()"
      ],
      "metadata": {
        "id": "_4oK0jpc7NaG"
      },
      "execution_count": null,
      "outputs": []
    }
  ],
  "metadata": {
    "colab": {
      "collapsed_sections": [],
      "name": "DeepLearning-Assignment-2-Shallow.ipynb",
      "provenance": [],
      "mount_file_id": "1o-gT9GBFBe8dRI7KVh6f46fDuVfLt6Mk",
      "authorship_tag": "ABX9TyPGAZcujrzDdFUUiJXKrMXj",
      "include_colab_link": true
    },
    "kernelspec": {
      "display_name": "Python 3",
      "name": "python3"
    },
    "language_info": {
      "name": "python"
    },
    "accelerator": "GPU"
  },
  "nbformat": 4,
  "nbformat_minor": 0
}